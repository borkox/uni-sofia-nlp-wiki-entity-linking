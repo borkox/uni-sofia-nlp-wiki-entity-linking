{
 "cells": [
  {
   "cell_type": "code",
   "execution_count": 177,
   "id": "df84ef36",
   "metadata": {},
   "outputs": [],
   "source": [
    "import pandas as pd\n",
    "import numpy as np\n",
    "import torch\n",
    "import torch.nn as nn\n",
    "from torch.utils.data import Dataset, DataLoader\n",
    "from tqdm.notebook import tqdm\n",
    "import re"
   ]
  },
  {
   "cell_type": "code",
   "execution_count": 150,
   "id": "ecf4467a",
   "metadata": {},
   "outputs": [
    {
     "name": "stdout",
     "output_type": "stream",
     "text": [
      "huggingface/tokenizers: The current process just got forked, after parallelism has already been used. Disabling parallelism to avoid deadlocks...\n",
      "To disable this warning, you can either:\n",
      "\t- Avoid using `tokenizers` before the fork if possible\n",
      "\t- Explicitly set the environment variable TOKENIZERS_PARALLELISM=(true | false)\n",
      "Requirement already satisfied: sentence-transformers in /home/bobi/anaconda3/lib/python3.9/site-packages (2.2.1)\n",
      "Requirement already satisfied: scikit-learn in /home/bobi/anaconda3/lib/python3.9/site-packages (from sentence-transformers) (0.24.2)\n",
      "Requirement already satisfied: torch>=1.6.0 in /home/bobi/anaconda3/lib/python3.9/site-packages (from sentence-transformers) (1.11.0)\n",
      "Requirement already satisfied: sentencepiece in /home/bobi/anaconda3/lib/python3.9/site-packages (from sentence-transformers) (0.1.96)\n",
      "Requirement already satisfied: tqdm in /home/bobi/anaconda3/lib/python3.9/site-packages (from sentence-transformers) (4.62.3)\n",
      "Requirement already satisfied: scipy in /home/bobi/anaconda3/lib/python3.9/site-packages (from sentence-transformers) (1.8.0)\n",
      "Requirement already satisfied: torchvision in /home/bobi/anaconda3/lib/python3.9/site-packages (from sentence-transformers) (0.12.0)\n",
      "Requirement already satisfied: numpy in /home/bobi/anaconda3/lib/python3.9/site-packages (from sentence-transformers) (1.22.3)\n",
      "Requirement already satisfied: transformers<5.0.0,>=4.6.0 in /home/bobi/anaconda3/lib/python3.9/site-packages (from sentence-transformers) (4.20.1)\n",
      "Requirement already satisfied: huggingface-hub>=0.8.1 in /home/bobi/anaconda3/lib/python3.9/site-packages (from sentence-transformers) (0.8.1)\n",
      "Requirement already satisfied: nltk in /home/bobi/anaconda3/lib/python3.9/site-packages (from sentence-transformers) (3.6.5)\n",
      "Requirement already satisfied: typing-extensions>=3.7.4.3 in /home/bobi/anaconda3/lib/python3.9/site-packages (from huggingface-hub>=0.8.1->sentence-transformers) (3.10.0.2)\n",
      "Requirement already satisfied: pyyaml>=5.1 in /home/bobi/anaconda3/lib/python3.9/site-packages (from huggingface-hub>=0.8.1->sentence-transformers) (6.0)\n",
      "Requirement already satisfied: filelock in /home/bobi/anaconda3/lib/python3.9/site-packages (from huggingface-hub>=0.8.1->sentence-transformers) (3.3.1)\n",
      "Requirement already satisfied: requests in /home/bobi/anaconda3/lib/python3.9/site-packages (from huggingface-hub>=0.8.1->sentence-transformers) (2.26.0)\n",
      "Requirement already satisfied: packaging>=20.9 in /home/bobi/anaconda3/lib/python3.9/site-packages (from huggingface-hub>=0.8.1->sentence-transformers) (21.0)\n",
      "Requirement already satisfied: pyparsing>=2.0.2 in /home/bobi/anaconda3/lib/python3.9/site-packages (from packaging>=20.9->huggingface-hub>=0.8.1->sentence-transformers) (3.0.4)\n",
      "Requirement already satisfied: tokenizers!=0.11.3,<0.13,>=0.11.1 in /home/bobi/anaconda3/lib/python3.9/site-packages (from transformers<5.0.0,>=4.6.0->sentence-transformers) (0.12.1)\n",
      "Requirement already satisfied: regex!=2019.12.17 in /home/bobi/anaconda3/lib/python3.9/site-packages (from transformers<5.0.0,>=4.6.0->sentence-transformers) (2021.8.3)\n",
      "Requirement already satisfied: click in /home/bobi/anaconda3/lib/python3.9/site-packages (from nltk->sentence-transformers) (8.0.3)\n",
      "Requirement already satisfied: joblib in /home/bobi/anaconda3/lib/python3.9/site-packages (from nltk->sentence-transformers) (1.1.0)\n",
      "Requirement already satisfied: certifi>=2017.4.17 in /home/bobi/anaconda3/lib/python3.9/site-packages (from requests->huggingface-hub>=0.8.1->sentence-transformers) (2021.10.8)\n",
      "Requirement already satisfied: urllib3<1.27,>=1.21.1 in /home/bobi/anaconda3/lib/python3.9/site-packages (from requests->huggingface-hub>=0.8.1->sentence-transformers) (1.26.7)\n",
      "Requirement already satisfied: idna<4,>=2.5 in /home/bobi/anaconda3/lib/python3.9/site-packages (from requests->huggingface-hub>=0.8.1->sentence-transformers) (3.2)\n",
      "Requirement already satisfied: charset-normalizer~=2.0.0 in /home/bobi/anaconda3/lib/python3.9/site-packages (from requests->huggingface-hub>=0.8.1->sentence-transformers) (2.0.4)\n",
      "Requirement already satisfied: threadpoolctl>=2.0.0 in /home/bobi/anaconda3/lib/python3.9/site-packages (from scikit-learn->sentence-transformers) (2.2.0)\n",
      "Requirement already satisfied: pillow!=8.3.*,>=5.3.0 in /home/bobi/anaconda3/lib/python3.9/site-packages (from torchvision->sentence-transformers) (8.4.0)\n",
      "Note: you may need to restart the kernel to use updated packages.\n"
     ]
    }
   ],
   "source": [
    "pip install -U sentence-transformers"
   ]
  },
  {
   "cell_type": "code",
   "execution_count": 151,
   "id": "10699e73",
   "metadata": {},
   "outputs": [],
   "source": [
    "from sentence_transformers import SentenceTransformer\n",
    "hugface_mdl = SentenceTransformer('sentence-transformers/all-MiniLM-L12-v1')"
   ]
  },
  {
   "cell_type": "code",
   "execution_count": 152,
   "id": "8685c6c7",
   "metadata": {},
   "outputs": [
    {
     "name": "stdout",
     "output_type": "stream",
     "text": [
      "Len(mentions_df)=9853\n"
     ]
    },
    {
     "data": {
      "text/html": [
       "<div>\n",
       "<style scoped>\n",
       "    .dataframe tbody tr th:only-of-type {\n",
       "        vertical-align: middle;\n",
       "    }\n",
       "\n",
       "    .dataframe tbody tr th {\n",
       "        vertical-align: top;\n",
       "    }\n",
       "\n",
       "    .dataframe thead th {\n",
       "        text-align: right;\n",
       "    }\n",
       "</style>\n",
       "<table border=\"1\" class=\"dataframe\">\n",
       "  <thead>\n",
       "    <tr style=\"text-align: right;\">\n",
       "      <th></th>\n",
       "      <th>idx</th>\n",
       "      <th>left_context</th>\n",
       "      <th>link_title</th>\n",
       "      <th>link_text</th>\n",
       "      <th>right_context</th>\n",
       "      <th>url</th>\n",
       "      <th>mention_in_page</th>\n",
       "    </tr>\n",
       "  </thead>\n",
       "  <tbody>\n",
       "    <tr>\n",
       "      <th>0</th>\n",
       "      <td>0</td>\n",
       "      <td>стил е съвременният международно признат</td>\n",
       "      <td>светски</td>\n",
       "      <td>NaN</td>\n",
       "      <td>календар на който се основава</td>\n",
       "      <td>NaN</td>\n",
       "      <td>Григориански календар</td>\n",
       "    </tr>\n",
       "    <tr>\n",
       "      <th>1</th>\n",
       "      <td>1</td>\n",
       "      <td>е съвременният международно признат светски</td>\n",
       "      <td>календар</td>\n",
       "      <td>NaN</td>\n",
       "      <td>на който се основава и</td>\n",
       "      <td>NaN</td>\n",
       "      <td>Григориански календар</td>\n",
       "    </tr>\n",
       "  </tbody>\n",
       "</table>\n",
       "</div>"
      ],
      "text/plain": [
       "  idx                                 left_context link_title link_text  \\\n",
       "0   0     стил е съвременният международно признат    светски       NaN   \n",
       "1   1  е съвременният международно признат светски   календар       NaN   \n",
       "\n",
       "                   right_context  url        mention_in_page  \n",
       "0  календар на който се основава  NaN  Григориански календар  \n",
       "1         на който се основава и  NaN  Григориански календар  "
      ]
     },
     "execution_count": 152,
     "metadata": {},
     "output_type": "execute_result"
    }
   ],
   "source": [
    "mentions_df = pd.read_csv('mentions.csv', dtype=str)\n",
    "print(f\"Len(mentions_df)={len(mentions_df)}\")\n",
    "mentions_df.head(2)\n",
    "\n"
   ]
  },
  {
   "cell_type": "code",
   "execution_count": 153,
   "id": "15f9f862",
   "metadata": {},
   "outputs": [
    {
     "data": {
      "text/html": [
       "<div>\n",
       "<style scoped>\n",
       "    .dataframe tbody tr th:only-of-type {\n",
       "        vertical-align: middle;\n",
       "    }\n",
       "\n",
       "    .dataframe tbody tr th {\n",
       "        vertical-align: top;\n",
       "    }\n",
       "\n",
       "    .dataframe thead th {\n",
       "        text-align: right;\n",
       "    }\n",
       "</style>\n",
       "<table border=\"1\" class=\"dataframe\">\n",
       "  <thead>\n",
       "    <tr style=\"text-align: right;\">\n",
       "      <th></th>\n",
       "      <th>idx</th>\n",
       "      <th>left_context</th>\n",
       "      <th>link_title</th>\n",
       "      <th>link_text</th>\n",
       "      <th>right_context</th>\n",
       "      <th>url</th>\n",
       "      <th>mention_in_page</th>\n",
       "      <th>link_repr</th>\n",
       "    </tr>\n",
       "  </thead>\n",
       "  <tbody>\n",
       "    <tr>\n",
       "      <th>0</th>\n",
       "      <td>0</td>\n",
       "      <td>стил е съвременният международно признат</td>\n",
       "      <td>светски</td>\n",
       "      <td>NaN</td>\n",
       "      <td>календар на който се основава</td>\n",
       "      <td>NaN</td>\n",
       "      <td>Григориански календар</td>\n",
       "      <td>светски</td>\n",
       "    </tr>\n",
       "    <tr>\n",
       "      <th>1</th>\n",
       "      <td>1</td>\n",
       "      <td>е съвременният международно признат светски</td>\n",
       "      <td>календар</td>\n",
       "      <td>NaN</td>\n",
       "      <td>на който се основава и</td>\n",
       "      <td>NaN</td>\n",
       "      <td>Григориански календар</td>\n",
       "      <td>календар</td>\n",
       "    </tr>\n",
       "  </tbody>\n",
       "</table>\n",
       "</div>"
      ],
      "text/plain": [
       "  idx                                 left_context link_title link_text  \\\n",
       "0   0     стил е съвременният международно признат    светски       NaN   \n",
       "1   1  е съвременният международно признат светски   календар       NaN   \n",
       "\n",
       "                   right_context  url        mention_in_page link_repr  \n",
       "0  календар на който се основава  NaN  Григориански календар   светски  \n",
       "1         на който се основава и  NaN  Григориански календар  календар  "
      ]
     },
     "execution_count": 153,
     "metadata": {},
     "output_type": "execute_result"
    }
   ],
   "source": [
    "mentions_df['link_repr'] = mentions_df.apply(lambda x: x['link_title'] if x['link_text']is None else x['link_title'], axis=1)\n",
    "mentions_df.head(2)"
   ]
  },
  {
   "cell_type": "code",
   "execution_count": 178,
   "id": "d4162fba",
   "metadata": {},
   "outputs": [
    {
     "name": "stdout",
     "output_type": "stream",
     "text": [
      "Len(entities_df)=501\n"
     ]
    },
    {
     "data": {
      "text/html": [
       "<div>\n",
       "<style scoped>\n",
       "    .dataframe tbody tr th:only-of-type {\n",
       "        vertical-align: middle;\n",
       "    }\n",
       "\n",
       "    .dataframe tbody tr th {\n",
       "        vertical-align: top;\n",
       "    }\n",
       "\n",
       "    .dataframe thead th {\n",
       "        text-align: right;\n",
       "    }\n",
       "</style>\n",
       "<table border=\"1\" class=\"dataframe\">\n",
       "  <thead>\n",
       "    <tr style=\"text-align: right;\">\n",
       "      <th></th>\n",
       "      <th>idx</th>\n",
       "      <th>title</th>\n",
       "      <th>text</th>\n",
       "      <th>url</th>\n",
       "    </tr>\n",
       "  </thead>\n",
       "  <tbody>\n",
       "    <tr>\n",
       "      <th>0</th>\n",
       "      <td>0</td>\n",
       "      <td>Григориански календар</td>\n",
       "      <td>'Григорианският календар (понякога наричан и Г...</td>\n",
       "      <td>https://bg.wikipedia.org/wiki/%D0%93%D1%80%D0%...</td>\n",
       "    </tr>\n",
       "    <tr>\n",
       "      <th>1</th>\n",
       "      <td>1</td>\n",
       "      <td>GNU General Public License</td>\n",
       "      <td>GNU General Public License (на български преве...</td>\n",
       "      <td>https://bg.wikipedia.org/wiki/GNU_General_Publ...</td>\n",
       "    </tr>\n",
       "  </tbody>\n",
       "</table>\n",
       "</div>"
      ],
      "text/plain": [
       "   idx                       title  \\\n",
       "0    0       Григориански календар   \n",
       "1    1  GNU General Public License   \n",
       "\n",
       "                                                text  \\\n",
       "0  'Григорианският календар (понякога наричан и Г...   \n",
       "1  GNU General Public License (на български преве...   \n",
       "\n",
       "                                                 url  \n",
       "0  https://bg.wikipedia.org/wiki/%D0%93%D1%80%D0%...  \n",
       "1  https://bg.wikipedia.org/wiki/GNU_General_Publ...  "
      ]
     },
     "execution_count": 178,
     "metadata": {},
     "output_type": "execute_result"
    }
   ],
   "source": [
    "entities_df = pd.read_csv('entities.csv')\n",
    "print(f\"Len(entities_df)={len(entities_df)}\")\n",
    "entities_df.head(2)"
   ]
  },
  {
   "cell_type": "code",
   "execution_count": 155,
   "id": "59f46dd6",
   "metadata": {
    "scrolled": false
   },
   "outputs": [
    {
     "name": "stdout",
     "output_type": "stream",
     "text": [
      "Eligible mentions:  1512\n"
     ]
    },
    {
     "data": {
      "text/html": [
       "<div>\n",
       "<style scoped>\n",
       "    .dataframe tbody tr th:only-of-type {\n",
       "        vertical-align: middle;\n",
       "    }\n",
       "\n",
       "    .dataframe tbody tr th {\n",
       "        vertical-align: top;\n",
       "    }\n",
       "\n",
       "    .dataframe thead th {\n",
       "        text-align: right;\n",
       "    }\n",
       "</style>\n",
       "<table border=\"1\" class=\"dataframe\">\n",
       "  <thead>\n",
       "    <tr style=\"text-align: right;\">\n",
       "      <th></th>\n",
       "      <th>idx_mention</th>\n",
       "      <th>left_context</th>\n",
       "      <th>link_title</th>\n",
       "      <th>link_text</th>\n",
       "      <th>right_context</th>\n",
       "      <th>url_mention</th>\n",
       "      <th>mention_in_page</th>\n",
       "      <th>link_repr</th>\n",
       "      <th>idx_entitity</th>\n",
       "      <th>title</th>\n",
       "      <th>text</th>\n",
       "      <th>url_entitity</th>\n",
       "    </tr>\n",
       "  </thead>\n",
       "  <tbody>\n",
       "    <tr>\n",
       "      <th>0</th>\n",
       "      <td>6</td>\n",
       "      <td>е въведен в употреба на</td>\n",
       "      <td>4 октомври</td>\n",
       "      <td>NaN</td>\n",
       "      <td>1582 г в съответствие с</td>\n",
       "      <td>NaN</td>\n",
       "      <td>Григориански календар</td>\n",
       "      <td>4 октомври</td>\n",
       "      <td>62</td>\n",
       "      <td>4 октомври</td>\n",
       "      <td>4 октомври е 277-ият ден в годината според гри...</td>\n",
       "      <td>https://bg.wikipedia.org/wiki/4_%D0%BE%D0%BA%D...</td>\n",
       "    </tr>\n",
       "    <tr>\n",
       "      <th>1</th>\n",
       "      <td>205</td>\n",
       "      <td>са следните За събитията до</td>\n",
       "      <td>4 октомври</td>\n",
       "      <td>NaN</td>\n",
       "      <td>1582 г включително има само</td>\n",
       "      <td>NaN</td>\n",
       "      <td>Приемане на григорианския календар</td>\n",
       "      <td>4 октомври</td>\n",
       "      <td>62</td>\n",
       "      <td>4 октомври</td>\n",
       "      <td>4 октомври е 277-ият ден в годината според гри...</td>\n",
       "      <td>https://bg.wikipedia.org/wiki/4_%D0%BE%D0%BA%D...</td>\n",
       "    </tr>\n",
       "  </tbody>\n",
       "</table>\n",
       "</div>"
      ],
      "text/plain": [
       "  idx_mention                 left_context  link_title link_text  \\\n",
       "0           6      е въведен в употреба на  4 октомври       NaN   \n",
       "1         205  са следните За събитията до  4 октомври       NaN   \n",
       "\n",
       "                 right_context url_mention  \\\n",
       "0      1582 г в съответствие с         NaN   \n",
       "1  1582 г включително има само         NaN   \n",
       "\n",
       "                      mention_in_page   link_repr  idx_entitity       title  \\\n",
       "0               Григориански календар  4 октомври            62  4 октомври   \n",
       "1  Приемане на григорианския календар  4 октомври            62  4 октомври   \n",
       "\n",
       "                                                text  \\\n",
       "0  4 октомври е 277-ият ден в годината според гри...   \n",
       "1  4 октомври е 277-ият ден в годината според гри...   \n",
       "\n",
       "                                        url_entitity  \n",
       "0  https://bg.wikipedia.org/wiki/4_%D0%BE%D0%BA%D...  \n",
       "1  https://bg.wikipedia.org/wiki/4_%D0%BE%D0%BA%D...  "
      ]
     },
     "execution_count": 155,
     "metadata": {},
     "output_type": "execute_result"
    }
   ],
   "source": [
    "# Merge mentions and entities (inner merge)\n",
    "merge_df = mentions_df.merge(entities_df, \\\n",
    "                           left_on='link_title', \\\n",
    "                           right_on='title', \\\n",
    "                           how='inner',\n",
    "                           suffixes=['_mention', '_entitity'])\n",
    "print('Eligible mentions: ', len(merge_df))\n",
    "merge_df.head(2)"
   ]
  },
  {
   "cell_type": "code",
   "execution_count": 211,
   "id": "e41ed40e",
   "metadata": {
    "scrolled": false
   },
   "outputs": [],
   "source": [
    "merge_df.reset_index(inplace=True)"
   ]
  },
  {
   "cell_type": "code",
   "execution_count": null,
   "id": "708c7f20",
   "metadata": {},
   "outputs": [],
   "source": []
  },
  {
   "cell_type": "code",
   "execution_count": 156,
   "id": "2b5d4663",
   "metadata": {},
   "outputs": [],
   "source": [
    "class MentionEntityDataset(Dataset):\n",
    "    def __init__(self, hugface_mdl, merge_df):\n",
    "        self.mention_vecs = hugface_mdl.encode(pd.array( \\\n",
    "            merge_df['left_context'] +' ' +\\\n",
    "            merge_df['link_repr'] + ' ' + \\\n",
    "            merge_df['right_context']))\n",
    "        self.entities_vec = hugface_mdl.encode(pd.array( \\\n",
    "            merge_df['title'] +' ' +\\\n",
    "            merge_df['text']))\n",
    "        #cos = nn.CosineSimilarity(dim=1, eps=1e-6)\n",
    "        #output = cos(torch.from_numpy(self.mention_vecs), torch.from_numpy(self.entities_vec))\n",
    "        #print(\"COS:\", output)\n",
    "        assert(len(self.mention_vecs) == len(self.entities_vec))\n",
    "\n",
    "    def __len__(self):\n",
    "        return len(self.mention_vecs)\n",
    "\n",
    "    def __getitem__(self, idx):\n",
    "        return self.mention_vecs[idx].reshape(-1), self.entities_vec[idx].reshape(-1)"
   ]
  },
  {
   "cell_type": "code",
   "execution_count": 157,
   "id": "7d584595",
   "metadata": {},
   "outputs": [
    {
     "name": "stdout",
     "output_type": "stream",
     "text": [
      "COS: tensor([0.5110, 0.5253, 0.6112,  ..., 0.6217, 0.6516, 0.7059])\n"
     ]
    },
    {
     "data": {
      "text/plain": [
       "1512"
      ]
     },
     "execution_count": 157,
     "metadata": {},
     "output_type": "execute_result"
    }
   ],
   "source": [
    "dataset = MentionEntityDataset(hugface_mdl, merge_df)\n",
    "len(dataset)"
   ]
  },
  {
   "cell_type": "code",
   "execution_count": 180,
   "id": "04fb6624",
   "metadata": {},
   "outputs": [],
   "source": [
    "class MentionToEntityNet(nn.Module):\n",
    "    def __init__(self, in_size=384, out_size=384):\n",
    "        super(MentionToEntityNet, self).__init__()\n",
    "        #self.flatten = nn.Flatten()\n",
    "        self.linear_relu_stack = nn.Sequential(\n",
    "            nn.Linear(in_size, 2500),\n",
    "            nn.ReLU(),\n",
    "            nn.Linear(2500, 2500),\n",
    "            nn.ReLU(),\n",
    "            nn.Linear(2500, 2500),\n",
    "            nn.ReLU(),\n",
    "            nn.Linear(2500, out_size),\n",
    "        )\n",
    "        self.linear_relu_stack.apply(self._init_weights)\n",
    "    def _init_weights(self, m):\n",
    "        if isinstance(m, nn.Linear):\n",
    "            torch.nn.init.xavier_uniform_(m.weight)\n",
    "            m.bias.data.fill_(0.01)\n",
    "    def forward(self, x):\n",
    "        #x = self.flatten(x)\n",
    "        logits = self.linear_relu_stack(x)\n",
    "        return logits"
   ]
  },
  {
   "cell_type": "code",
   "execution_count": 181,
   "id": "5afb14c1",
   "metadata": {},
   "outputs": [
    {
     "name": "stdout",
     "output_type": "stream",
     "text": [
      "MentionToEntityNet(\n",
      "  (linear_relu_stack): Sequential(\n",
      "    (0): Linear(in_features=384, out_features=2500, bias=True)\n",
      "    (1): ReLU()\n",
      "    (2): Linear(in_features=2500, out_features=2500, bias=True)\n",
      "    (3): ReLU()\n",
      "    (4): Linear(in_features=2500, out_features=2500, bias=True)\n",
      "    (5): ReLU()\n",
      "    (6): Linear(in_features=2500, out_features=384, bias=True)\n",
      "  )\n",
      ")\n"
     ]
    }
   ],
   "source": [
    "model = MentionToEntityNet()\n",
    "print(model)"
   ]
  },
  {
   "cell_type": "code",
   "execution_count": 225,
   "id": "a1bf7c76",
   "metadata": {},
   "outputs": [
    {
     "data": {
      "application/vnd.jupyter.widget-view+json": {
       "model_id": "4e51f10d9ec74317abf60dcd88abdf01",
       "version_major": 2,
       "version_minor": 0
      },
      "text/plain": [
       "  0%|          | 0/100 [00:00<?, ?it/s]"
      ]
     },
     "metadata": {},
     "output_type": "display_data"
    },
    {
     "name": "stdout",
     "output_type": "stream",
     "text": [
      "Epoch: 0005 loss=0.003360056 \n",
      "Epoch: 0010 loss=0.003360078 \n",
      "Epoch: 0015 loss=0.003359992 \n",
      "Epoch: 0020 loss=0.003360340 \n",
      "Epoch: 0025 loss=0.003359547 \n",
      "Epoch: 0030 loss=0.003360750 \n",
      "Epoch: 0035 loss=0.003360192 \n",
      "Epoch: 0040 loss=0.003359968 \n",
      "Epoch: 0045 loss=0.003359705 \n",
      "Epoch: 0050 loss=0.003359662 \n",
      "Epoch: 0055 loss=0.003359254 \n",
      "Epoch: 0060 loss=0.003359984 \n",
      "Epoch: 0065 loss=0.003359815 \n",
      "Epoch: 0070 loss=0.003360312 \n",
      "Epoch: 0075 loss=0.003360295 \n",
      "Epoch: 0080 loss=0.003359157 \n",
      "Epoch: 0085 loss=0.003360980 \n",
      "Epoch: 0090 loss=0.003360356 \n",
      "Epoch: 0095 loss=0.003359367 \n",
      "Epoch: 0100 loss=0.003359574 \n",
      "Optimization Finished!\n"
     ]
    }
   ],
   "source": [
    "# Training cycle\n",
    "MAX_EPOCHS = 100\n",
    "BATCH_SIZE = 32\n",
    "DISPLAY_STEP = 5\n",
    "LEARNING_RATE = 0.001\n",
    "def train(model, dataset):\n",
    "    optimizer = torch.optim.Adam(model.parameters(), lr=LEARNING_RATE)\n",
    "    loss_fct = nn.MSELoss()\n",
    "    #loss_fct = nn.CosineSimilarity(eps=1e-6)\n",
    "    model.train()\n",
    "    for epoch in tqdm(range(1, MAX_EPOCHS+1)):\n",
    "        losses = []\n",
    "        dataloader = DataLoader(dataset, batch_size=BATCH_SIZE,\n",
    "                        shuffle=True, drop_last=False)\n",
    "        for x, y in dataloader:\n",
    "            optimizer.zero_grad()\n",
    "            logits = model(x)\n",
    "            loss = loss_fct(logits, y)\n",
    "            loss.backward()\n",
    "            loss_value = loss.item()\n",
    "            losses.append(loss_value)\n",
    "        \n",
    "        train_loss_value = np.mean(losses)\n",
    "        \n",
    "        # Display logs per each DISPLAY_STEP\n",
    "        if (epoch) % DISPLAY_STEP == 0:\n",
    "            print(\"Epoch: {:04d} loss={:.9f} \".format(epoch, train_loss_value))\n",
    "        \n",
    "    \n",
    "\n",
    "train(model, dataset)\n",
    "print (\"Optimization Finished!\")"
   ]
  },
  {
   "cell_type": "markdown",
   "id": "aacdf550",
   "metadata": {},
   "source": [
    "# Evaluation"
   ]
  },
  {
   "cell_type": "code",
   "execution_count": 220,
   "id": "66ac5ecc",
   "metadata": {},
   "outputs": [],
   "source": [
    "# https://bg.wikinews.org/wiki/%D0%A4%D0%B8%D0%BD%D0%B0%D0%BD%D1%81%D0%B8%D1%80%D0%B0%D0%BD%D0%B5%D1%82%D0%BE_%D0%BD%D0%B0_%D0%A2%D0%B5%D0%B2%D0%B0%D1%82%D1%80%D0%BE%D0%BD_%D1%89%D0%B5_%D0%B1%D1%8A%D0%B4%D0%B5_%D0%BF%D1%80%D0%B5%D1%83%D1%81%D1%82%D0%B0%D0%BD%D0%BE%D0%B2%D0%B5%D0%BD%D0%BE\n",
    "text = \"\"\"\n",
    "Дни, използвани от слънчевите календари\n",
    "При слънчевите календари датата отговаря \n",
    "на слънчевия ден. Денят може да се състои \n",
    "от периода между изгрев и залез слънце, \n",
    "последван от нощта, или може да представлява \n",
    "времето между повтарящи се събития, например \n",
    "два залеза. Дължината може да се променя малко \n",
    "през годината или може да се използва среден \n",
    "слънчев ден. Други типове календари също могат \n",
    "да използват слънчевия ден.\n",
    "\n",
    "Юлиански и Григориански календар\n",
    "Юлианският календар е въведен от римския диктатор \n",
    "Юлий Цезар през 46 г. пр.н.е. При него месеците са \n",
    "по-дълги от лунния цикъл и затова той не е удобен за \n",
    "следене на лунните фази, за сметка на това много точно \n",
    "показва сезоните. Обикновените години имат 365 дена, \n",
    "а всяка четвърта година е високосна, което означава, \n",
    "че има 366 дни. Така продължителността на средната \n",
    "година е 365,25 дни.\n",
    "\"\"\""
   ]
  },
  {
   "cell_type": "code",
   "execution_count": 221,
   "id": "5ad12a7b",
   "metadata": {
    "scrolled": false
   },
   "outputs": [
    {
     "data": {
      "text/plain": [
       "['Дни', 'използвани', 'от', 'слънчевите', 'календари']"
      ]
     },
     "execution_count": 221,
     "metadata": {},
     "output_type": "execute_result"
    }
   ],
   "source": [
    "text = re.sub(r\"[,\\\\.\\\"]\", r\"\", text.strip())\n",
    "tokens = text.split()\n",
    "tokens[0:5]"
   ]
  },
  {
   "cell_type": "code",
   "execution_count": 226,
   "id": "17c792f3",
   "metadata": {},
   "outputs": [
    {
     "name": "stdout",
     "output_type": "stream",
     "text": [
      "tensor(0.1561)\n",
      "tensor(1231)\n",
      "['ден', 'Денят'] ==> 8 януари\n",
      "tensor(0.1561)\n",
      "tensor(1231)\n",
      "['Денят'] ==> 8 януари\n"
     ]
    }
   ],
   "source": [
    "model.eval()\n",
    "cos = nn.CosineSimilarity(dim=1, eps=1e-6)\n",
    "MAX_SPAN_MENTION = 2\n",
    "with torch.no_grad():\n",
    "    for i in range(len(tokens)):\n",
    "        for span in range(MAX_SPAN_MENTION): \n",
    "            left_tok_start = max(i+span-5,0)\n",
    "            right_tok_end = min(i+span+5,len(tokens))\n",
    "            #print(\" \".join(tokens[left_tok_start: right_tok_end]))\n",
    "            vec = hugface_mdl.encode(\" \".join(tokens[left_tok_start: right_tok_end]))\n",
    "            vec2 = model(torch.from_numpy(vec))\n",
    "            output = cos(vec2.reshape(1,-1), torch.from_numpy(dataset.entities_vec))\n",
    "            max_cos = torch.max(output).item()\n",
    "            if max_cos > 0.15:\n",
    "                print(torch.max(output))\n",
    "                print(torch.argmax(output))\n",
    "                print(tokens[i:i+span+1],'==>', merge_df['title'].iloc[torch.argmax(output).item()])\n",
    "                #break\n",
    "        \n",
    "    "
   ]
  },
  {
   "cell_type": "code",
   "execution_count": null,
   "id": "ed914997",
   "metadata": {},
   "outputs": [],
   "source": []
  }
 ],
 "metadata": {
  "kernelspec": {
   "display_name": "Python 3 (ipykernel)",
   "language": "python",
   "name": "python3"
  },
  "language_info": {
   "codemirror_mode": {
    "name": "ipython",
    "version": 3
   },
   "file_extension": ".py",
   "mimetype": "text/x-python",
   "name": "python",
   "nbconvert_exporter": "python",
   "pygments_lexer": "ipython3",
   "version": "3.9.7"
  }
 },
 "nbformat": 4,
 "nbformat_minor": 5
}
