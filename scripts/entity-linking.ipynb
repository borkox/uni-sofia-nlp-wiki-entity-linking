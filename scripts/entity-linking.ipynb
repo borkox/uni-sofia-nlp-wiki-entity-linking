{
 "cells": [
  {
   "cell_type": "code",
   "execution_count": 473,
   "id": "df84ef36",
   "metadata": {},
   "outputs": [],
   "source": [
    "import pandas as pd\n",
    "import numpy as np\n",
    "import torch\n",
    "import torch.nn as nn\n",
    "import torch.nn.functional as F\n",
    "from torch.utils.data import Dataset, DataLoader\n",
    "from tqdm.notebook import tqdm\n",
    "import re\n",
    "import matplotlib.pyplot as plt"
   ]
  },
  {
   "cell_type": "code",
   "execution_count": 474,
   "id": "ecf4467a",
   "metadata": {},
   "outputs": [
    {
     "name": "stdout",
     "output_type": "stream",
     "text": [
      "huggingface/tokenizers: The current process just got forked, after parallelism has already been used. Disabling parallelism to avoid deadlocks...\n",
      "To disable this warning, you can either:\n",
      "\t- Avoid using `tokenizers` before the fork if possible\n",
      "\t- Explicitly set the environment variable TOKENIZERS_PARALLELISM=(true | false)\n",
      "Requirement already satisfied: sentence-transformers in /home/bobi/anaconda3/lib/python3.9/site-packages (2.2.1)\n",
      "Collecting sentence-transformers\n",
      "  Downloading sentence-transformers-2.2.2.tar.gz (85 kB)\n",
      "\u001b[K     |████████████████████████████████| 85 kB 312 kB/s eta 0:00:01\n",
      "\u001b[?25hRequirement already satisfied: transformers<5.0.0,>=4.6.0 in /home/bobi/anaconda3/lib/python3.9/site-packages (from sentence-transformers) (4.20.1)\n",
      "Requirement already satisfied: tqdm in /home/bobi/anaconda3/lib/python3.9/site-packages (from sentence-transformers) (4.62.3)\n",
      "Requirement already satisfied: torch>=1.6.0 in /home/bobi/anaconda3/lib/python3.9/site-packages (from sentence-transformers) (1.11.0)\n",
      "Requirement already satisfied: torchvision in /home/bobi/anaconda3/lib/python3.9/site-packages (from sentence-transformers) (0.12.0)\n",
      "Requirement already satisfied: numpy in /home/bobi/anaconda3/lib/python3.9/site-packages (from sentence-transformers) (1.22.3)\n",
      "Requirement already satisfied: scikit-learn in /home/bobi/anaconda3/lib/python3.9/site-packages (from sentence-transformers) (0.24.2)\n",
      "Requirement already satisfied: scipy in /home/bobi/anaconda3/lib/python3.9/site-packages (from sentence-transformers) (1.8.0)\n",
      "Requirement already satisfied: nltk in /home/bobi/anaconda3/lib/python3.9/site-packages (from sentence-transformers) (3.6.5)\n",
      "Requirement already satisfied: sentencepiece in /home/bobi/anaconda3/lib/python3.9/site-packages (from sentence-transformers) (0.1.96)\n",
      "Requirement already satisfied: huggingface-hub>=0.4.0 in /home/bobi/anaconda3/lib/python3.9/site-packages (from sentence-transformers) (0.8.1)\n",
      "Requirement already satisfied: filelock in /home/bobi/anaconda3/lib/python3.9/site-packages (from huggingface-hub>=0.4.0->sentence-transformers) (3.3.1)\n",
      "Requirement already satisfied: typing-extensions>=3.7.4.3 in /home/bobi/anaconda3/lib/python3.9/site-packages (from huggingface-hub>=0.4.0->sentence-transformers) (3.10.0.2)\n",
      "Requirement already satisfied: requests in /home/bobi/anaconda3/lib/python3.9/site-packages (from huggingface-hub>=0.4.0->sentence-transformers) (2.26.0)\n",
      "Requirement already satisfied: pyyaml>=5.1 in /home/bobi/anaconda3/lib/python3.9/site-packages (from huggingface-hub>=0.4.0->sentence-transformers) (6.0)\n",
      "Requirement already satisfied: packaging>=20.9 in /home/bobi/anaconda3/lib/python3.9/site-packages (from huggingface-hub>=0.4.0->sentence-transformers) (21.0)\n",
      "Requirement already satisfied: pyparsing>=2.0.2 in /home/bobi/anaconda3/lib/python3.9/site-packages (from packaging>=20.9->huggingface-hub>=0.4.0->sentence-transformers) (3.0.4)\n",
      "Requirement already satisfied: regex!=2019.12.17 in /home/bobi/anaconda3/lib/python3.9/site-packages (from transformers<5.0.0,>=4.6.0->sentence-transformers) (2021.8.3)\n",
      "Requirement already satisfied: tokenizers!=0.11.3,<0.13,>=0.11.1 in /home/bobi/anaconda3/lib/python3.9/site-packages (from transformers<5.0.0,>=4.6.0->sentence-transformers) (0.12.1)\n",
      "Requirement already satisfied: click in /home/bobi/anaconda3/lib/python3.9/site-packages (from nltk->sentence-transformers) (8.0.3)\n",
      "Requirement already satisfied: joblib in /home/bobi/anaconda3/lib/python3.9/site-packages (from nltk->sentence-transformers) (1.1.0)\n",
      "Requirement already satisfied: charset-normalizer~=2.0.0 in /home/bobi/anaconda3/lib/python3.9/site-packages (from requests->huggingface-hub>=0.4.0->sentence-transformers) (2.0.4)\n",
      "Requirement already satisfied: urllib3<1.27,>=1.21.1 in /home/bobi/anaconda3/lib/python3.9/site-packages (from requests->huggingface-hub>=0.4.0->sentence-transformers) (1.26.7)\n",
      "Requirement already satisfied: idna<4,>=2.5 in /home/bobi/anaconda3/lib/python3.9/site-packages (from requests->huggingface-hub>=0.4.0->sentence-transformers) (3.2)\n",
      "Requirement already satisfied: certifi>=2017.4.17 in /home/bobi/anaconda3/lib/python3.9/site-packages (from requests->huggingface-hub>=0.4.0->sentence-transformers) (2021.10.8)\n",
      "Requirement already satisfied: threadpoolctl>=2.0.0 in /home/bobi/anaconda3/lib/python3.9/site-packages (from scikit-learn->sentence-transformers) (2.2.0)\n",
      "Requirement already satisfied: pillow!=8.3.*,>=5.3.0 in /home/bobi/anaconda3/lib/python3.9/site-packages (from torchvision->sentence-transformers) (8.4.0)\n",
      "Building wheels for collected packages: sentence-transformers\n",
      "  Building wheel for sentence-transformers (setup.py) ... \u001b[?25ldone\n",
      "\u001b[?25h  Created wheel for sentence-transformers: filename=sentence_transformers-2.2.2-py3-none-any.whl size=125938 sha256=3761a5e319ab46bf1256cf1c963b93ec8e66197e0fbfca4b05000114e7093cf9\n",
      "  Stored in directory: /home/bobi/.cache/pip/wheels/71/67/06/162a3760c40d74dd40bc855d527008d26341c2b0ecf3e8e11f\n",
      "Successfully built sentence-transformers\n",
      "Installing collected packages: sentence-transformers\n",
      "  Attempting uninstall: sentence-transformers\n",
      "    Found existing installation: sentence-transformers 2.2.1\n",
      "    Uninstalling sentence-transformers-2.2.1:\n",
      "      Successfully uninstalled sentence-transformers-2.2.1\n",
      "Successfully installed sentence-transformers-2.2.2\n",
      "Note: you may need to restart the kernel to use updated packages.\n"
     ]
    }
   ],
   "source": [
    "pip install -U sentence-transformers"
   ]
  },
  {
   "cell_type": "code",
   "execution_count": 475,
   "id": "10699e73",
   "metadata": {},
   "outputs": [],
   "source": [
    "from sentence_transformers import SentenceTransformer\n",
    "hugface_mdl = SentenceTransformer('sentence-transformers/all-MiniLM-L12-v1')"
   ]
  },
  {
   "cell_type": "code",
   "execution_count": 476,
   "id": "8685c6c7",
   "metadata": {},
   "outputs": [
    {
     "name": "stdout",
     "output_type": "stream",
     "text": [
      "Len(mentions_df)=18625\n"
     ]
    },
    {
     "data": {
      "text/html": [
       "<div>\n",
       "<style scoped>\n",
       "    .dataframe tbody tr th:only-of-type {\n",
       "        vertical-align: middle;\n",
       "    }\n",
       "\n",
       "    .dataframe tbody tr th {\n",
       "        vertical-align: top;\n",
       "    }\n",
       "\n",
       "    .dataframe thead th {\n",
       "        text-align: right;\n",
       "    }\n",
       "</style>\n",
       "<table border=\"1\" class=\"dataframe\">\n",
       "  <thead>\n",
       "    <tr style=\"text-align: right;\">\n",
       "      <th></th>\n",
       "      <th>idx</th>\n",
       "      <th>left_context</th>\n",
       "      <th>link_title</th>\n",
       "      <th>link_text</th>\n",
       "      <th>right_context</th>\n",
       "      <th>url</th>\n",
       "      <th>mention_in_page</th>\n",
       "    </tr>\n",
       "  </thead>\n",
       "  <tbody>\n",
       "    <tr>\n",
       "      <th>0</th>\n",
       "      <td>0</td>\n",
       "      <td>стил е съвременният международно признат</td>\n",
       "      <td>светски</td>\n",
       "      <td>NaN</td>\n",
       "      <td>календар на който се основава</td>\n",
       "      <td>NaN</td>\n",
       "      <td>Григориански календар</td>\n",
       "    </tr>\n",
       "    <tr>\n",
       "      <th>1</th>\n",
       "      <td>1</td>\n",
       "      <td>е съвременният международно признат светски</td>\n",
       "      <td>календар</td>\n",
       "      <td>NaN</td>\n",
       "      <td>на който се основава и</td>\n",
       "      <td>NaN</td>\n",
       "      <td>Григориански календар</td>\n",
       "    </tr>\n",
       "  </tbody>\n",
       "</table>\n",
       "</div>"
      ],
      "text/plain": [
       "  idx                                 left_context link_title link_text  \\\n",
       "0   0     стил е съвременният международно признат    светски       NaN   \n",
       "1   1  е съвременният международно признат светски   календар       NaN   \n",
       "\n",
       "                   right_context  url        mention_in_page  \n",
       "0  календар на който се основава  NaN  Григориански календар  \n",
       "1         на който се основава и  NaN  Григориански календар  "
      ]
     },
     "execution_count": 476,
     "metadata": {},
     "output_type": "execute_result"
    }
   ],
   "source": [
    "mentions_df = pd.read_csv('mentions.csv', dtype=str)\n",
    "print(f\"Len(mentions_df)={len(mentions_df)}\")\n",
    "mentions_df.head(2)\n",
    "\n"
   ]
  },
  {
   "cell_type": "code",
   "execution_count": 477,
   "id": "15f9f862",
   "metadata": {},
   "outputs": [
    {
     "data": {
      "text/html": [
       "<div>\n",
       "<style scoped>\n",
       "    .dataframe tbody tr th:only-of-type {\n",
       "        vertical-align: middle;\n",
       "    }\n",
       "\n",
       "    .dataframe tbody tr th {\n",
       "        vertical-align: top;\n",
       "    }\n",
       "\n",
       "    .dataframe thead th {\n",
       "        text-align: right;\n",
       "    }\n",
       "</style>\n",
       "<table border=\"1\" class=\"dataframe\">\n",
       "  <thead>\n",
       "    <tr style=\"text-align: right;\">\n",
       "      <th></th>\n",
       "      <th>idx</th>\n",
       "      <th>left_context</th>\n",
       "      <th>link_title</th>\n",
       "      <th>link_text</th>\n",
       "      <th>right_context</th>\n",
       "      <th>url</th>\n",
       "      <th>mention_in_page</th>\n",
       "      <th>link_repr</th>\n",
       "    </tr>\n",
       "  </thead>\n",
       "  <tbody>\n",
       "    <tr>\n",
       "      <th>0</th>\n",
       "      <td>0</td>\n",
       "      <td>стил е съвременният международно признат</td>\n",
       "      <td>светски</td>\n",
       "      <td>NaN</td>\n",
       "      <td>календар на който се основава</td>\n",
       "      <td>NaN</td>\n",
       "      <td>Григориански календар</td>\n",
       "      <td>светски</td>\n",
       "    </tr>\n",
       "    <tr>\n",
       "      <th>1</th>\n",
       "      <td>1</td>\n",
       "      <td>е съвременният международно признат светски</td>\n",
       "      <td>календар</td>\n",
       "      <td>NaN</td>\n",
       "      <td>на който се основава и</td>\n",
       "      <td>NaN</td>\n",
       "      <td>Григориански календар</td>\n",
       "      <td>календар</td>\n",
       "    </tr>\n",
       "  </tbody>\n",
       "</table>\n",
       "</div>"
      ],
      "text/plain": [
       "  idx                                 left_context link_title link_text  \\\n",
       "0   0     стил е съвременният международно признат    светски       NaN   \n",
       "1   1  е съвременният международно признат светски   календар       NaN   \n",
       "\n",
       "                   right_context  url        mention_in_page link_repr  \n",
       "0  календар на който се основава  NaN  Григориански календар   светски  \n",
       "1         на който се основава и  NaN  Григориански календар  календар  "
      ]
     },
     "execution_count": 477,
     "metadata": {},
     "output_type": "execute_result"
    }
   ],
   "source": [
    "mentions_df['link_repr'] = mentions_df.apply(lambda x: x['link_title'] if x['link_text']is None else x['link_title'], axis=1)\n",
    "mentions_df.head(2)"
   ]
  },
  {
   "cell_type": "code",
   "execution_count": 478,
   "id": "d4162fba",
   "metadata": {},
   "outputs": [
    {
     "name": "stdout",
     "output_type": "stream",
     "text": [
      "Len(entities_df)=1001\n"
     ]
    },
    {
     "data": {
      "text/html": [
       "<div>\n",
       "<style scoped>\n",
       "    .dataframe tbody tr th:only-of-type {\n",
       "        vertical-align: middle;\n",
       "    }\n",
       "\n",
       "    .dataframe tbody tr th {\n",
       "        vertical-align: top;\n",
       "    }\n",
       "\n",
       "    .dataframe thead th {\n",
       "        text-align: right;\n",
       "    }\n",
       "</style>\n",
       "<table border=\"1\" class=\"dataframe\">\n",
       "  <thead>\n",
       "    <tr style=\"text-align: right;\">\n",
       "      <th></th>\n",
       "      <th>idx</th>\n",
       "      <th>title</th>\n",
       "      <th>text</th>\n",
       "      <th>url</th>\n",
       "    </tr>\n",
       "  </thead>\n",
       "  <tbody>\n",
       "    <tr>\n",
       "      <th>0</th>\n",
       "      <td>0</td>\n",
       "      <td>Григориански календар</td>\n",
       "      <td>'Григорианският календар (понякога наричан и Г...</td>\n",
       "      <td>https://bg.wikipedia.org/wiki/%D0%93%D1%80%D0%...</td>\n",
       "    </tr>\n",
       "    <tr>\n",
       "      <th>1</th>\n",
       "      <td>1</td>\n",
       "      <td>GNU General Public License</td>\n",
       "      <td>GNU General Public License (на български преве...</td>\n",
       "      <td>https://bg.wikipedia.org/wiki/GNU_General_Publ...</td>\n",
       "    </tr>\n",
       "  </tbody>\n",
       "</table>\n",
       "</div>"
      ],
      "text/plain": [
       "   idx                       title  \\\n",
       "0    0       Григориански календар   \n",
       "1    1  GNU General Public License   \n",
       "\n",
       "                                                text  \\\n",
       "0  'Григорианският календар (понякога наричан и Г...   \n",
       "1  GNU General Public License (на български преве...   \n",
       "\n",
       "                                                 url  \n",
       "0  https://bg.wikipedia.org/wiki/%D0%93%D1%80%D0%...  \n",
       "1  https://bg.wikipedia.org/wiki/GNU_General_Publ...  "
      ]
     },
     "execution_count": 478,
     "metadata": {},
     "output_type": "execute_result"
    }
   ],
   "source": [
    "entities_df = pd.read_csv('entities.csv')\n",
    "print(f\"Len(entities_df)={len(entities_df)}\")\n",
    "entities_df.head(2)"
   ]
  },
  {
   "cell_type": "code",
   "execution_count": 479,
   "id": "59f46dd6",
   "metadata": {
    "scrolled": false
   },
   "outputs": [
    {
     "name": "stdout",
     "output_type": "stream",
     "text": [
      "Eligible mentions:  3739\n"
     ]
    },
    {
     "data": {
      "text/html": [
       "<div>\n",
       "<style scoped>\n",
       "    .dataframe tbody tr th:only-of-type {\n",
       "        vertical-align: middle;\n",
       "    }\n",
       "\n",
       "    .dataframe tbody tr th {\n",
       "        vertical-align: top;\n",
       "    }\n",
       "\n",
       "    .dataframe thead th {\n",
       "        text-align: right;\n",
       "    }\n",
       "</style>\n",
       "<table border=\"1\" class=\"dataframe\">\n",
       "  <thead>\n",
       "    <tr style=\"text-align: right;\">\n",
       "      <th></th>\n",
       "      <th>idx_mention</th>\n",
       "      <th>left_context</th>\n",
       "      <th>link_title</th>\n",
       "      <th>link_text</th>\n",
       "      <th>right_context</th>\n",
       "      <th>url_mention</th>\n",
       "      <th>mention_in_page</th>\n",
       "      <th>link_repr</th>\n",
       "      <th>idx_entity</th>\n",
       "      <th>title</th>\n",
       "      <th>text</th>\n",
       "      <th>url_entity</th>\n",
       "    </tr>\n",
       "  </thead>\n",
       "  <tbody>\n",
       "    <tr>\n",
       "      <th>0</th>\n",
       "      <td>6</td>\n",
       "      <td>е въведен в употреба на</td>\n",
       "      <td>4 октомври</td>\n",
       "      <td>NaN</td>\n",
       "      <td>1582 г в съответствие с</td>\n",
       "      <td>NaN</td>\n",
       "      <td>Григориански календар</td>\n",
       "      <td>4 октомври</td>\n",
       "      <td>62</td>\n",
       "      <td>4 октомври</td>\n",
       "      <td>4 октомври е 277-ият ден в годината според гри...</td>\n",
       "      <td>https://bg.wikipedia.org/wiki/4_%D0%BE%D0%BA%D...</td>\n",
       "    </tr>\n",
       "    <tr>\n",
       "      <th>1</th>\n",
       "      <td>205</td>\n",
       "      <td>са следните За събитията до</td>\n",
       "      <td>4 октомври</td>\n",
       "      <td>NaN</td>\n",
       "      <td>1582 г включително има само</td>\n",
       "      <td>NaN</td>\n",
       "      <td>Приемане на григорианския календар</td>\n",
       "      <td>4 октомври</td>\n",
       "      <td>62</td>\n",
       "      <td>4 октомври</td>\n",
       "      <td>4 октомври е 277-ият ден в годината според гри...</td>\n",
       "      <td>https://bg.wikipedia.org/wiki/4_%D0%BE%D0%BA%D...</td>\n",
       "    </tr>\n",
       "  </tbody>\n",
       "</table>\n",
       "</div>"
      ],
      "text/plain": [
       "  idx_mention                 left_context  link_title link_text  \\\n",
       "0           6      е въведен в употреба на  4 октомври       NaN   \n",
       "1         205  са следните За събитията до  4 октомври       NaN   \n",
       "\n",
       "                 right_context url_mention  \\\n",
       "0      1582 г в съответствие с         NaN   \n",
       "1  1582 г включително има само         NaN   \n",
       "\n",
       "                      mention_in_page   link_repr  idx_entity       title  \\\n",
       "0               Григориански календар  4 октомври          62  4 октомври   \n",
       "1  Приемане на григорианския календар  4 октомври          62  4 октомври   \n",
       "\n",
       "                                                text  \\\n",
       "0  4 октомври е 277-ият ден в годината според гри...   \n",
       "1  4 октомври е 277-ият ден в годината според гри...   \n",
       "\n",
       "                                          url_entity  \n",
       "0  https://bg.wikipedia.org/wiki/4_%D0%BE%D0%BA%D...  \n",
       "1  https://bg.wikipedia.org/wiki/4_%D0%BE%D0%BA%D...  "
      ]
     },
     "execution_count": 479,
     "metadata": {},
     "output_type": "execute_result"
    }
   ],
   "source": [
    "# Merge mentions and entities (inner merge)\n",
    "merge_df = mentions_df.merge(entities_df, \\\n",
    "                           left_on='link_title', \\\n",
    "                           right_on='title', \\\n",
    "                           how='inner',\n",
    "                           suffixes=['_mention', '_entity'])\n",
    "print('Eligible mentions: ', len(merge_df))\n",
    "merge_df.head(2)"
   ]
  },
  {
   "cell_type": "code",
   "execution_count": 480,
   "id": "e41ed40e",
   "metadata": {
    "scrolled": false
   },
   "outputs": [],
   "source": [
    "merge_df.reset_index(inplace=True)"
   ]
  },
  {
   "cell_type": "code",
   "execution_count": 481,
   "id": "708c7f20",
   "metadata": {},
   "outputs": [
    {
     "data": {
      "text/plain": [
       "682"
      ]
     },
     "execution_count": 481,
     "metadata": {},
     "output_type": "execute_result"
    }
   ],
   "source": [
    "merge_df['idx_entity'].nunique()"
   ]
  },
  {
   "cell_type": "code",
   "execution_count": 482,
   "id": "641d27a8",
   "metadata": {},
   "outputs": [
    {
     "data": {
      "text/plain": [
       "48607"
      ]
     },
     "execution_count": 482,
     "metadata": {},
     "output_type": "execute_result"
    }
   ],
   "source": [
    "merge_df.size"
   ]
  },
  {
   "cell_type": "code",
   "execution_count": 483,
   "id": "2b5d4663",
   "metadata": {},
   "outputs": [],
   "source": [
    "class MentionEntityDataset(Dataset):\n",
    "    def __init__(self, hugface_mdl, merge_df):\n",
    "        self.mention_vecs = hugface_mdl.encode(pd.array( \\\n",
    "            merge_df['left_context'] +' ' +\\\n",
    "            merge_df['link_repr'] + ' ' + \\\n",
    "            merge_df['right_context']))\n",
    "        #self.entities_vec = hugface_mdl.encode(pd.array( \\\n",
    "        #    merge_df['title'] +' ' +\\\n",
    "        #    merge_df['text']))\n",
    "        #cos = nn.CosineSimilarity(dim=1, eps=1e-6)\n",
    "        #self.cos_sm = cos(torch.from_numpy(self.mention_vecs), torch.from_numpy(self.entities_vec))\n",
    "        #print(\"COS:\", output)\n",
    "        self.idx_entity = merge_df['idx_entity'];\n",
    "        assert(len(self.mention_vecs) == len(self.idx_entity))\n",
    "\n",
    "    def __len__(self):\n",
    "        return len(self.mention_vecs)\n",
    "\n",
    "    def __getitem__(self, idx):\n",
    "        return self.mention_vecs[idx].reshape(-1), self.idx_entity[idx].item()"
   ]
  },
  {
   "cell_type": "code",
   "execution_count": 484,
   "id": "7d584595",
   "metadata": {},
   "outputs": [
    {
     "data": {
      "text/plain": [
       "3739"
      ]
     },
     "execution_count": 484,
     "metadata": {},
     "output_type": "execute_result"
    }
   ],
   "source": [
    "dataset = MentionEntityDataset(hugface_mdl, merge_df)\n",
    "len(dataset)"
   ]
  },
  {
   "cell_type": "code",
   "execution_count": 501,
   "id": "d696d9b3",
   "metadata": {},
   "outputs": [
    {
     "name": "stdout",
     "output_type": "stream",
     "text": [
      "len(train_dataset)=2991\n",
      "len(test_dataset)=748\n"
     ]
    }
   ],
   "source": [
    "train_size = int(0.8 * len(dataset))\n",
    "test_size = len(dataset) - train_size\n",
    "train_dataset, test_dataset = torch.utils.data.random_split(dataset, [train_size, test_size])\n",
    "print(f\"len(train_dataset)={len(train_dataset)}\")\n",
    "print(f\"len(test_dataset)={len(test_dataset)}\")"
   ]
  },
  {
   "cell_type": "code",
   "execution_count": 502,
   "id": "04fb6624",
   "metadata": {},
   "outputs": [],
   "source": [
    "class MentionToEntityNet(nn.Module):\n",
    "    def __init__(self, out_size, in_size=384, dropout=0.5):\n",
    "        super(MentionToEntityNet, self).__init__()\n",
    "        #self.flatten = nn.Flatten()\n",
    "        self.linear_relu_stack = nn.Sequential(\n",
    "            nn.Linear(in_size, 2500),\n",
    "            nn.ReLU(),\n",
    "            nn.Linear(2500, 1500),\n",
    "            nn.Dropout(dropout),\n",
    "            nn.ReLU(),\n",
    "            nn.Linear(1500, out_size),\n",
    "        )\n",
    "        self.linear_relu_stack.apply(self._init_weights)\n",
    "    def _init_weights(self, m):\n",
    "        if isinstance(m, nn.Linear):\n",
    "            torch.nn.init.xavier_uniform_(m.weight)\n",
    "            m.bias.data.fill_(0.01)\n",
    "            \n",
    "    def forward(self, x):\n",
    "        logits = self.linear_relu_stack(x)\n",
    "        # Softmax is used in evaluation later on, \n",
    "        # This method returns logits directly in order\n",
    "        # to call CrossEntropyLoss on logits\n",
    "        return logits\n"
   ]
  },
  {
   "cell_type": "code",
   "execution_count": 539,
   "id": "5afb14c1",
   "metadata": {},
   "outputs": [
    {
     "name": "stdout",
     "output_type": "stream",
     "text": [
      "MentionToEntityNet(\n",
      "  (linear_relu_stack): Sequential(\n",
      "    (0): Linear(in_features=384, out_features=2500, bias=True)\n",
      "    (1): ReLU()\n",
      "    (2): Linear(in_features=2500, out_features=1500, bias=True)\n",
      "    (3): Dropout(p=0.5, inplace=False)\n",
      "    (4): ReLU()\n",
      "    (5): Linear(in_features=1500, out_features=1001, bias=True)\n",
      "  )\n",
      ")\n"
     ]
    }
   ],
   "source": [
    "model = MentionToEntityNet(out_size=len(entities_df))\n",
    "print(model)"
   ]
  },
  {
   "cell_type": "code",
   "execution_count": 540,
   "id": "7831b567",
   "metadata": {},
   "outputs": [],
   "source": [
    "def accuracy(model, dataset):\n",
    "    model.eval()\n",
    "    dataloader = DataLoader(dataset, batch_size=BATCH_SIZE,\n",
    "                      shuffle=False, drop_last=False)\n",
    "    sum_correct=0\n",
    "    for x, y in dataloader:\n",
    "        with torch.no_grad():\n",
    "            logits = model(x)\n",
    "            y_hat = torch.argmax(logits, dim=1)\n",
    "            sum_correct += torch.sum(y_hat.view(-1) == y).item()\n",
    "    \n",
    "    accuracy = sum_correct / len(dataset)\n",
    "    return accuracy"
   ]
  },
  {
   "cell_type": "code",
   "execution_count": 541,
   "id": "a1bf7c76",
   "metadata": {},
   "outputs": [
    {
     "data": {
      "application/vnd.jupyter.widget-view+json": {
       "model_id": "54332484ee5c4a949c332f657f6cb428",
       "version_major": 2,
       "version_minor": 0
      },
      "text/plain": [
       "  0%|          | 0/40 [00:00<?, ?it/s]"
      ]
     },
     "metadata": {},
     "output_type": "display_data"
    },
    {
     "name": "stdout",
     "output_type": "stream",
     "text": [
      "Epoch: 0004 loss=3.74424, train_acc=0.38315,test_acc=0.26203  \n",
      "Epoch: 0008 loss=1.11976, train_acc=0.79472,test_acc=0.38770  \n",
      "Epoch: 0012 loss=0.42701, train_acc=0.92745,test_acc=0.39706  \n",
      "Epoch: 0016 loss=0.22309, train_acc=0.96122,test_acc=0.40508  \n",
      "Epoch: 0020 loss=0.14774, train_acc=0.97727,test_acc=0.40508  \n",
      "Epoch: 0024 loss=0.10322, train_acc=0.98061,test_acc=0.39706  \n",
      "Epoch: 0028 loss=0.11734, train_acc=0.98128,test_acc=0.39305  \n",
      "Epoch: 0032 loss=0.05949, train_acc=0.98830,test_acc=0.38770  \n",
      "Epoch: 0036 loss=0.07779, train_acc=0.98195,test_acc=0.38369  \n",
      "Epoch: 0040 loss=0.07814, train_acc=0.98429,test_acc=0.39572  \n",
      "Optimization Finished!\n"
     ]
    }
   ],
   "source": [
    "# Training cycle\n",
    "MAX_EPOCHS = 40\n",
    "BATCH_SIZE = 32\n",
    "DISPLAY_STEP = 4\n",
    "LEARNING_RATE = 0.001\n",
    "def train(model, train_dataset, test_dataset):\n",
    "    optimizer = torch.optim.Adam(model.parameters(), lr=LEARNING_RATE)\n",
    "    loss_fct = nn.CrossEntropyLoss()\n",
    "    #loss_fct = nn.CosineSimilarity(eps=1e-6)\n",
    "    model.train()\n",
    "    epoch_losses = []\n",
    "    for epoch in tqdm(range(1, MAX_EPOCHS+1)):\n",
    "        losses = []\n",
    "        dataloader = DataLoader(train_dataset, batch_size=BATCH_SIZE,\n",
    "                        shuffle=True, drop_last=False)\n",
    "        for x, y in dataloader:\n",
    "            optimizer.zero_grad()\n",
    "            predicted = model(x)\n",
    "            loss = loss_fct(predicted, y)\n",
    "            loss.backward()\n",
    "            optimizer.step()\n",
    "            loss_value = loss.item()\n",
    "            losses.append(loss_value)\n",
    "        \n",
    "        train_loss_value = np.mean(losses)\n",
    "        epoch_losses.append(train_loss_value)\n",
    "        # Display logs per each DISPLAY_STEP\n",
    "        if (epoch) % DISPLAY_STEP == 0:\n",
    "            train_acc = accuracy(model, train_dataset)\n",
    "            test_acc = accuracy(model, test_dataset)\n",
    "            print(f\"Epoch: {epoch:04d} loss={train_loss_value:.5f}, train_acc={train_acc:.5f},test_acc={test_acc:.5f}  \")\n",
    "    return epoch_losses    \n",
    "    \n",
    "\n",
    "epoch_losses = train(model, train_dataset, test_dataset)\n",
    "print (\"Optimization Finished!\")"
   ]
  },
  {
   "cell_type": "code",
   "execution_count": 561,
   "id": "51c08cc7",
   "metadata": {},
   "outputs": [
    {
     "data": {
      "image/png": "[encoded data removed]",
      "text/plain": [
       "<Figure size 432x288 with 1 Axes>"
      ]
     },
     "metadata": {
      "needs_background": "light"
     },
     "output_type": "display_data"
    }
   ],
   "source": [
    "plt.xlabel(\"Епохи\")\n",
    "plt.ylabel(\"Грешка\")\n",
    "plt.plot(range(len(epoch_losses)), epoch_losses)\n",
    "plt.show()"
   ]
  },
  {
   "cell_type": "markdown",
   "id": "aacdf550",
   "metadata": {},
   "source": [
    "# Evaluation"
   ]
  },
  {
   "cell_type": "code",
   "execution_count": 557,
   "id": "66ac5ecc",
   "metadata": {},
   "outputs": [],
   "source": [
    "# https://bg.wikinews.org/wiki/%D0%A4%D0%B8%D0%BD%D0%B0%D0%BD%D1%81%D0%B8%D1%80%D0%B0%D0%BD%D0%B5%D1%82%D0%BE_%D0%BD%D0%B0_%D0%A2%D0%B5%D0%B2%D0%B0%D1%82%D1%80%D0%BE%D0%BD_%D1%89%D0%B5_%D0%B1%D1%8A%D0%B4%D0%B5_%D0%BF%D1%80%D0%B5%D1%83%D1%81%D1%82%D0%B0%D0%BD%D0%BE%D0%B2%D0%B5%D0%BD%D0%BE\n",
    "text = \"\"\"\n",
    "Дни, използвани от слънчевите календари.\n",
    "При слънчевите календари датата отговаря \n",
    "на слънчевия ден. Денят може да се състои \n",
    "от периода между изгрев и залез слънце, \n",
    "последван от нощта, или може да представлява \n",
    "времето между повтарящи се събития, например \n",
    "два залеза. Дължината може да се променя малко \n",
    "през годината или може да се използва среден \n",
    "слънчев ден. Други типове календари също могат \n",
    "да използват слънчевия ден.\n",
    "\n",
    "Юлиански и Григориански календар.\n",
    "Юлианският календар е въведен от римския диктатор \n",
    "Юлий Цезар през 46 г. пр.н.е. При него месеците са \n",
    "по-дълги от лунния цикъл и затова той не е удобен за \n",
    "следене на лунните фази, за сметка на това много точно \n",
    "показва сезоните. Обикновените години имат 365 дена, \n",
    "а всяка четвърта година е високосна, което означава, \n",
    "че има 366 дни. Така продължителността на средната \n",
    "година е 365,25 дни.\n",
    "\"\"\"\n",
    "\n",
    "\n",
    "stop_words = {\"и\",\"на\",\"в\" \".\", \"се\", \"да\", \\\n",
    "              \"от\", \"или\", \"през\", \"а\", \"може\",\\\n",
    "              \"например\", \"той\", \"не\", \"че\", \"за\", \"е\"}\n"
   ]
  },
  {
   "cell_type": "code",
   "execution_count": 558,
   "id": "5ad12a7b",
   "metadata": {
    "scrolled": false
   },
   "outputs": [
    {
     "data": {
      "text/plain": [
       "['Дни', 'използвани', 'от', 'слънчевите', 'календари']"
      ]
     },
     "execution_count": 558,
     "metadata": {},
     "output_type": "execute_result"
    }
   ],
   "source": [
    "text = re.sub(r\"[,\\\\.\\\"]\", r\"\", text.strip())\n",
    "tokens = text.split()\n",
    "tokens[0:5]"
   ]
  },
  {
   "cell_type": "code",
   "execution_count": 559,
   "id": "17c792f3",
   "metadata": {},
   "outputs": [
    {
     "name": "stdout",
     "output_type": "stream",
     "text": [
      "между изгрев==0.99325=>Варна\n",
      "изгрев==0.99325=>Варна\n",
      "използва среден==0.99609=>Европа\n",
      "среден==0.99609=>Европа\n",
      "слънчев ден==0.99627=>Григориански календар\n",
      "ден==0.99627=>Григориански календар\n",
      "ден Други==0.98896=>Григориански календар\n",
      "Други==0.98896=>Григориански календар\n",
      "римския диктатор==0.99753=>България\n",
      "диктатор==0.99753=>България\n",
      "удобен==0.98141=>Рим\n",
      "сметка==0.98468=>1 април\n",
      "365 дена==0.98328=>Обикновена година, започваща във вторник\n",
      "дена==0.98328=>Обикновена година, започваща във вторник\n",
      "високосна==0.99687=>Варна\n",
      "дни==0.99435=>Григориански календар\n"
     ]
    }
   ],
   "source": [
    "model.eval()\n",
    "cos = nn.CosineSimilarity(dim=1, eps=1e-6)\n",
    "MAX_SPAN_MENTION = 2\n",
    "with torch.no_grad():\n",
    "    for i in range(len(tokens)):\n",
    "        if tokens[i].lower() in stop_words :\n",
    "            continue;\n",
    "        for span in range(MAX_SPAN_MENTION): \n",
    "            if tokens[min(i+span,len(tokens)-1)].lower() in stop_words:\n",
    "                continue;\n",
    "            left_tok_start = max(i+span-5,0)\n",
    "            right_tok_end = min(i+span+5,len(tokens))\n",
    "            # On stop word continue\n",
    "            if tokens[i] in stop_words or \\\n",
    "                tokens[min(i+span, len(tokens)-1)] in stop_words:\n",
    "                continue;\n",
    "            #print(\" \".join(tokens[left_tok_start: right_tok_end]))\n",
    "            vec = hugface_mdl.encode(\" \".join(tokens[left_tok_start: right_tok_end]))\n",
    "            predicted = model(torch.from_numpy(vec).reshape(1,-1))\n",
    "            probabilities = F.softmax(predicted.view(-1),dim=0)\n",
    "            max_prob = torch.max(probabilities)\n",
    "            argmax_prob = torch.argmax(probabilities)\n",
    "            \n",
    "            if max_prob > 0.98:\n",
    "                print(f\"{' '.join(tokens[i:i+span+1])}=={max_prob:.5f}=>{entities_df.iloc[argmax_prob.item()]['title']}\")\n",
    "                #break\n",
    "        \n",
    "    "
   ]
  },
  {
   "cell_type": "code",
   "execution_count": null,
   "id": "ed914997",
   "metadata": {},
   "outputs": [],
   "source": []
  },
  {
   "cell_type": "code",
   "execution_count": null,
   "id": "9bbfcb33",
   "metadata": {},
   "outputs": [],
   "source": []
  }
 ],
 "metadata": {
  "kernelspec": {
   "display_name": "Python 3 (ipykernel)",
   "language": "python",
   "name": "python3"
  },
  "language_info": {
   "codemirror_mode": {
    "name": "ipython",
    "version": 3
   },
   "file_extension": ".py",
   "mimetype": "text/x-python",
   "name": "python",
   "nbconvert_exporter": "python",
   "pygments_lexer": "ipython3",
   "version": "3.9.7"
  }
 },
 "nbformat": 4,
 "nbformat_minor": 5
}
