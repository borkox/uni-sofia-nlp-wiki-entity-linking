{
 "cells": [
  {
   "cell_type": "code",
   "execution_count": 2,
   "id": "df84ef36",
   "metadata": {},
   "outputs": [],
   "source": [
    "import pandas as pd\n",
    "import numpy as np\n",
    "import torch\n",
    "import torch.nn as nn\n",
    "import torch.nn.functional as F\n",
    "from torch.utils.data import Dataset, DataLoader\n",
    "from tqdm.notebook import tqdm\n",
    "import re\n",
    "import matplotlib.pyplot as plt"
   ]
  },
  {
   "cell_type": "code",
   "execution_count": 3,
   "id": "ecf4467a",
   "metadata": {},
   "outputs": [
    {
     "name": "stdout",
     "output_type": "stream",
     "text": [
      "Requirement already satisfied: sentence-transformers in /home/bobi/anaconda3/lib/python3.9/site-packages (2.2.2)\n",
      "Requirement already satisfied: scipy in /home/bobi/anaconda3/lib/python3.9/site-packages (from sentence-transformers) (1.8.0)\n",
      "Requirement already satisfied: nltk in /home/bobi/anaconda3/lib/python3.9/site-packages (from sentence-transformers) (3.6.5)\n",
      "Requirement already satisfied: transformers<5.0.0,>=4.6.0 in /home/bobi/anaconda3/lib/python3.9/site-packages (from sentence-transformers) (4.20.1)\n",
      "Requirement already satisfied: tqdm in /home/bobi/anaconda3/lib/python3.9/site-packages (from sentence-transformers) (4.62.3)\n",
      "Requirement already satisfied: sentencepiece in /home/bobi/anaconda3/lib/python3.9/site-packages (from sentence-transformers) (0.1.96)\n",
      "Requirement already satisfied: numpy in /home/bobi/anaconda3/lib/python3.9/site-packages (from sentence-transformers) (1.22.3)\n",
      "Requirement already satisfied: torch>=1.6.0 in /home/bobi/anaconda3/lib/python3.9/site-packages (from sentence-transformers) (1.11.0)\n",
      "Requirement already satisfied: huggingface-hub>=0.4.0 in /home/bobi/anaconda3/lib/python3.9/site-packages (from sentence-transformers) (0.8.1)\n",
      "Requirement already satisfied: scikit-learn in /home/bobi/anaconda3/lib/python3.9/site-packages (from sentence-transformers) (0.24.2)\n",
      "Requirement already satisfied: torchvision in /home/bobi/anaconda3/lib/python3.9/site-packages (from sentence-transformers) (0.12.0)\n",
      "Requirement already satisfied: pyyaml>=5.1 in /home/bobi/anaconda3/lib/python3.9/site-packages (from huggingface-hub>=0.4.0->sentence-transformers) (6.0)\n",
      "Requirement already satisfied: requests in /home/bobi/anaconda3/lib/python3.9/site-packages (from huggingface-hub>=0.4.0->sentence-transformers) (2.26.0)\n",
      "Requirement already satisfied: filelock in /home/bobi/anaconda3/lib/python3.9/site-packages (from huggingface-hub>=0.4.0->sentence-transformers) (3.3.1)\n",
      "Requirement already satisfied: packaging>=20.9 in /home/bobi/anaconda3/lib/python3.9/site-packages (from huggingface-hub>=0.4.0->sentence-transformers) (21.0)\n",
      "Requirement already satisfied: typing-extensions>=3.7.4.3 in /home/bobi/anaconda3/lib/python3.9/site-packages (from huggingface-hub>=0.4.0->sentence-transformers) (3.10.0.2)\n",
      "Requirement already satisfied: pyparsing>=2.0.2 in /home/bobi/anaconda3/lib/python3.9/site-packages (from packaging>=20.9->huggingface-hub>=0.4.0->sentence-transformers) (3.0.4)\n",
      "Requirement already satisfied: regex!=2019.12.17 in /home/bobi/anaconda3/lib/python3.9/site-packages (from transformers<5.0.0,>=4.6.0->sentence-transformers) (2021.8.3)\n",
      "Requirement already satisfied: tokenizers!=0.11.3,<0.13,>=0.11.1 in /home/bobi/anaconda3/lib/python3.9/site-packages (from transformers<5.0.0,>=4.6.0->sentence-transformers) (0.12.1)\n",
      "Requirement already satisfied: click in /home/bobi/anaconda3/lib/python3.9/site-packages (from nltk->sentence-transformers) (8.0.3)\n",
      "Requirement already satisfied: joblib in /home/bobi/anaconda3/lib/python3.9/site-packages (from nltk->sentence-transformers) (1.1.0)\n",
      "Requirement already satisfied: certifi>=2017.4.17 in /home/bobi/anaconda3/lib/python3.9/site-packages (from requests->huggingface-hub>=0.4.0->sentence-transformers) (2021.10.8)\n",
      "Requirement already satisfied: charset-normalizer~=2.0.0 in /home/bobi/anaconda3/lib/python3.9/site-packages (from requests->huggingface-hub>=0.4.0->sentence-transformers) (2.0.4)\n",
      "Requirement already satisfied: idna<4,>=2.5 in /home/bobi/anaconda3/lib/python3.9/site-packages (from requests->huggingface-hub>=0.4.0->sentence-transformers) (3.2)\n",
      "Requirement already satisfied: urllib3<1.27,>=1.21.1 in /home/bobi/anaconda3/lib/python3.9/site-packages (from requests->huggingface-hub>=0.4.0->sentence-transformers) (1.26.7)\n",
      "Requirement already satisfied: threadpoolctl>=2.0.0 in /home/bobi/anaconda3/lib/python3.9/site-packages (from scikit-learn->sentence-transformers) (2.2.0)\n",
      "Requirement already satisfied: pillow!=8.3.*,>=5.3.0 in /home/bobi/anaconda3/lib/python3.9/site-packages (from torchvision->sentence-transformers) (8.4.0)\n",
      "Note: you may need to restart the kernel to use updated packages.\n"
     ]
    }
   ],
   "source": [
    "pip install -U sentence-transformers"
   ]
  },
  {
   "cell_type": "code",
   "execution_count": 4,
   "id": "10699e73",
   "metadata": {},
   "outputs": [],
   "source": [
    "from sentence_transformers import SentenceTransformer\n",
    "hugface_mdl = SentenceTransformer('sentence-transformers/all-MiniLM-L12-v1')"
   ]
  },
  {
   "cell_type": "code",
   "execution_count": 5,
   "id": "8685c6c7",
   "metadata": {},
   "outputs": [
    {
     "name": "stdout",
     "output_type": "stream",
     "text": [
      "Len(mentions_df)=18625\n"
     ]
    },
    {
     "data": {
      "text/html": [
       "<div>\n",
       "<style scoped>\n",
       "    .dataframe tbody tr th:only-of-type {\n",
       "        vertical-align: middle;\n",
       "    }\n",
       "\n",
       "    .dataframe tbody tr th {\n",
       "        vertical-align: top;\n",
       "    }\n",
       "\n",
       "    .dataframe thead th {\n",
       "        text-align: right;\n",
       "    }\n",
       "</style>\n",
       "<table border=\"1\" class=\"dataframe\">\n",
       "  <thead>\n",
       "    <tr style=\"text-align: right;\">\n",
       "      <th></th>\n",
       "      <th>idx</th>\n",
       "      <th>left_context</th>\n",
       "      <th>link_title</th>\n",
       "      <th>link_text</th>\n",
       "      <th>right_context</th>\n",
       "      <th>url</th>\n",
       "      <th>mention_in_page</th>\n",
       "    </tr>\n",
       "  </thead>\n",
       "  <tbody>\n",
       "    <tr>\n",
       "      <th>0</th>\n",
       "      <td>0</td>\n",
       "      <td>стил е съвременният международно признат</td>\n",
       "      <td>светски</td>\n",
       "      <td>NaN</td>\n",
       "      <td>календар на който се основава</td>\n",
       "      <td>NaN</td>\n",
       "      <td>Григориански календар</td>\n",
       "    </tr>\n",
       "    <tr>\n",
       "      <th>1</th>\n",
       "      <td>1</td>\n",
       "      <td>е съвременният международно признат светски</td>\n",
       "      <td>календар</td>\n",
       "      <td>NaN</td>\n",
       "      <td>на който се основава и</td>\n",
       "      <td>NaN</td>\n",
       "      <td>Григориански календар</td>\n",
       "    </tr>\n",
       "  </tbody>\n",
       "</table>\n",
       "</div>"
      ],
      "text/plain": [
       "  idx                                 left_context link_title link_text  \\\n",
       "0   0     стил е съвременният международно признат    светски       NaN   \n",
       "1   1  е съвременният международно признат светски   календар       NaN   \n",
       "\n",
       "                   right_context  url        mention_in_page  \n",
       "0  календар на който се основава  NaN  Григориански календар  \n",
       "1         на който се основава и  NaN  Григориански календар  "
      ]
     },
     "execution_count": 5,
     "metadata": {},
     "output_type": "execute_result"
    }
   ],
   "source": [
    "mentions_df = pd.read_csv('mentions.csv', dtype=str)\n",
    "print(f\"Len(mentions_df)={len(mentions_df)}\")\n",
    "mentions_df.head(2)\n",
    "\n"
   ]
  },
  {
   "cell_type": "code",
   "execution_count": 6,
   "id": "15f9f862",
   "metadata": {},
   "outputs": [
    {
     "data": {
      "text/html": [
       "<div>\n",
       "<style scoped>\n",
       "    .dataframe tbody tr th:only-of-type {\n",
       "        vertical-align: middle;\n",
       "    }\n",
       "\n",
       "    .dataframe tbody tr th {\n",
       "        vertical-align: top;\n",
       "    }\n",
       "\n",
       "    .dataframe thead th {\n",
       "        text-align: right;\n",
       "    }\n",
       "</style>\n",
       "<table border=\"1\" class=\"dataframe\">\n",
       "  <thead>\n",
       "    <tr style=\"text-align: right;\">\n",
       "      <th></th>\n",
       "      <th>idx</th>\n",
       "      <th>left_context</th>\n",
       "      <th>link_title</th>\n",
       "      <th>link_text</th>\n",
       "      <th>right_context</th>\n",
       "      <th>url</th>\n",
       "      <th>mention_in_page</th>\n",
       "      <th>link_repr</th>\n",
       "    </tr>\n",
       "  </thead>\n",
       "  <tbody>\n",
       "    <tr>\n",
       "      <th>0</th>\n",
       "      <td>0</td>\n",
       "      <td>стил е съвременният международно признат</td>\n",
       "      <td>светски</td>\n",
       "      <td>NaN</td>\n",
       "      <td>календар на който се основава</td>\n",
       "      <td>NaN</td>\n",
       "      <td>Григориански календар</td>\n",
       "      <td>светски</td>\n",
       "    </tr>\n",
       "    <tr>\n",
       "      <th>1</th>\n",
       "      <td>1</td>\n",
       "      <td>е съвременният международно признат светски</td>\n",
       "      <td>календар</td>\n",
       "      <td>NaN</td>\n",
       "      <td>на който се основава и</td>\n",
       "      <td>NaN</td>\n",
       "      <td>Григориански календар</td>\n",
       "      <td>календар</td>\n",
       "    </tr>\n",
       "  </tbody>\n",
       "</table>\n",
       "</div>"
      ],
      "text/plain": [
       "  idx                                 left_context link_title link_text  \\\n",
       "0   0     стил е съвременният международно признат    светски       NaN   \n",
       "1   1  е съвременният международно признат светски   календар       NaN   \n",
       "\n",
       "                   right_context  url        mention_in_page link_repr  \n",
       "0  календар на който се основава  NaN  Григориански календар   светски  \n",
       "1         на който се основава и  NaN  Григориански календар  календар  "
      ]
     },
     "execution_count": 6,
     "metadata": {},
     "output_type": "execute_result"
    }
   ],
   "source": [
    "mentions_df['link_repr'] = mentions_df.apply(lambda x: x['link_title'] if x['link_text']is None else x['link_title'], axis=1)\n",
    "mentions_df.head(2)"
   ]
  },
  {
   "cell_type": "code",
   "execution_count": 7,
   "id": "d4162fba",
   "metadata": {},
   "outputs": [
    {
     "name": "stdout",
     "output_type": "stream",
     "text": [
      "Len(entities_df)=1001\n"
     ]
    },
    {
     "data": {
      "text/html": [
       "<div>\n",
       "<style scoped>\n",
       "    .dataframe tbody tr th:only-of-type {\n",
       "        vertical-align: middle;\n",
       "    }\n",
       "\n",
       "    .dataframe tbody tr th {\n",
       "        vertical-align: top;\n",
       "    }\n",
       "\n",
       "    .dataframe thead th {\n",
       "        text-align: right;\n",
       "    }\n",
       "</style>\n",
       "<table border=\"1\" class=\"dataframe\">\n",
       "  <thead>\n",
       "    <tr style=\"text-align: right;\">\n",
       "      <th></th>\n",
       "      <th>idx</th>\n",
       "      <th>title</th>\n",
       "      <th>text</th>\n",
       "      <th>url</th>\n",
       "    </tr>\n",
       "  </thead>\n",
       "  <tbody>\n",
       "    <tr>\n",
       "      <th>0</th>\n",
       "      <td>0</td>\n",
       "      <td>Григориански календар</td>\n",
       "      <td>'Григорианският календар (понякога наричан и Г...</td>\n",
       "      <td>https://bg.wikipedia.org/wiki/%D0%93%D1%80%D0%...</td>\n",
       "    </tr>\n",
       "    <tr>\n",
       "      <th>1</th>\n",
       "      <td>1</td>\n",
       "      <td>GNU General Public License</td>\n",
       "      <td>GNU General Public License (на български преве...</td>\n",
       "      <td>https://bg.wikipedia.org/wiki/GNU_General_Publ...</td>\n",
       "    </tr>\n",
       "  </tbody>\n",
       "</table>\n",
       "</div>"
      ],
      "text/plain": [
       "   idx                       title  \\\n",
       "0    0       Григориански календар   \n",
       "1    1  GNU General Public License   \n",
       "\n",
       "                                                text  \\\n",
       "0  'Григорианският календар (понякога наричан и Г...   \n",
       "1  GNU General Public License (на български преве...   \n",
       "\n",
       "                                                 url  \n",
       "0  https://bg.wikipedia.org/wiki/%D0%93%D1%80%D0%...  \n",
       "1  https://bg.wikipedia.org/wiki/GNU_General_Publ...  "
      ]
     },
     "execution_count": 7,
     "metadata": {},
     "output_type": "execute_result"
    }
   ],
   "source": [
    "entities_df = pd.read_csv('entities.csv')\n",
    "print(f\"Len(entities_df)={len(entities_df)}\")\n",
    "entities_df.head(2)"
   ]
  },
  {
   "cell_type": "code",
   "execution_count": 8,
   "id": "59f46dd6",
   "metadata": {
    "scrolled": false
   },
   "outputs": [
    {
     "name": "stdout",
     "output_type": "stream",
     "text": [
      "Eligible mentions:  3739\n"
     ]
    },
    {
     "data": {
      "text/html": [
       "<div>\n",
       "<style scoped>\n",
       "    .dataframe tbody tr th:only-of-type {\n",
       "        vertical-align: middle;\n",
       "    }\n",
       "\n",
       "    .dataframe tbody tr th {\n",
       "        vertical-align: top;\n",
       "    }\n",
       "\n",
       "    .dataframe thead th {\n",
       "        text-align: right;\n",
       "    }\n",
       "</style>\n",
       "<table border=\"1\" class=\"dataframe\">\n",
       "  <thead>\n",
       "    <tr style=\"text-align: right;\">\n",
       "      <th></th>\n",
       "      <th>idx_mention</th>\n",
       "      <th>left_context</th>\n",
       "      <th>link_title</th>\n",
       "      <th>link_text</th>\n",
       "      <th>right_context</th>\n",
       "      <th>url_mention</th>\n",
       "      <th>mention_in_page</th>\n",
       "      <th>link_repr</th>\n",
       "      <th>idx_entity</th>\n",
       "      <th>title</th>\n",
       "      <th>text</th>\n",
       "      <th>url_entity</th>\n",
       "    </tr>\n",
       "  </thead>\n",
       "  <tbody>\n",
       "    <tr>\n",
       "      <th>0</th>\n",
       "      <td>6</td>\n",
       "      <td>е въведен в употреба на</td>\n",
       "      <td>4 октомври</td>\n",
       "      <td>NaN</td>\n",
       "      <td>1582 г в съответствие с</td>\n",
       "      <td>NaN</td>\n",
       "      <td>Григориански календар</td>\n",
       "      <td>4 октомври</td>\n",
       "      <td>62</td>\n",
       "      <td>4 октомври</td>\n",
       "      <td>4 октомври е 277-ият ден в годината според гри...</td>\n",
       "      <td>https://bg.wikipedia.org/wiki/4_%D0%BE%D0%BA%D...</td>\n",
       "    </tr>\n",
       "    <tr>\n",
       "      <th>1</th>\n",
       "      <td>205</td>\n",
       "      <td>са следните За събитията до</td>\n",
       "      <td>4 октомври</td>\n",
       "      <td>NaN</td>\n",
       "      <td>1582 г включително има само</td>\n",
       "      <td>NaN</td>\n",
       "      <td>Приемане на григорианския календар</td>\n",
       "      <td>4 октомври</td>\n",
       "      <td>62</td>\n",
       "      <td>4 октомври</td>\n",
       "      <td>4 октомври е 277-ият ден в годината според гри...</td>\n",
       "      <td>https://bg.wikipedia.org/wiki/4_%D0%BE%D0%BA%D...</td>\n",
       "    </tr>\n",
       "  </tbody>\n",
       "</table>\n",
       "</div>"
      ],
      "text/plain": [
       "  idx_mention                 left_context  link_title link_text  \\\n",
       "0           6      е въведен в употреба на  4 октомври       NaN   \n",
       "1         205  са следните За събитията до  4 октомври       NaN   \n",
       "\n",
       "                 right_context url_mention  \\\n",
       "0      1582 г в съответствие с         NaN   \n",
       "1  1582 г включително има само         NaN   \n",
       "\n",
       "                      mention_in_page   link_repr  idx_entity       title  \\\n",
       "0               Григориански календар  4 октомври          62  4 октомври   \n",
       "1  Приемане на григорианския календар  4 октомври          62  4 октомври   \n",
       "\n",
       "                                                text  \\\n",
       "0  4 октомври е 277-ият ден в годината според гри...   \n",
       "1  4 октомври е 277-ият ден в годината според гри...   \n",
       "\n",
       "                                          url_entity  \n",
       "0  https://bg.wikipedia.org/wiki/4_%D0%BE%D0%BA%D...  \n",
       "1  https://bg.wikipedia.org/wiki/4_%D0%BE%D0%BA%D...  "
      ]
     },
     "execution_count": 8,
     "metadata": {},
     "output_type": "execute_result"
    }
   ],
   "source": [
    "# Merge mentions and entities (inner merge)\n",
    "merge_df = mentions_df.merge(entities_df, \\\n",
    "                           left_on='link_title', \\\n",
    "                           right_on='title', \\\n",
    "                           how='inner',\n",
    "                           suffixes=['_mention', '_entity'])\n",
    "print('Eligible mentions: ', len(merge_df))\n",
    "merge_df.head(2)"
   ]
  },
  {
   "cell_type": "code",
   "execution_count": 9,
   "id": "e41ed40e",
   "metadata": {
    "scrolled": false
   },
   "outputs": [],
   "source": [
    "merge_df.reset_index(inplace=True)"
   ]
  },
  {
   "cell_type": "code",
   "execution_count": 10,
   "id": "708c7f20",
   "metadata": {},
   "outputs": [
    {
     "data": {
      "text/plain": [
       "682"
      ]
     },
     "execution_count": 10,
     "metadata": {},
     "output_type": "execute_result"
    }
   ],
   "source": [
    "merge_df['idx_entity'].nunique()"
   ]
  },
  {
   "cell_type": "code",
   "execution_count": 11,
   "id": "844c694f",
   "metadata": {
    "scrolled": true
   },
   "outputs": [
    {
     "data": {
      "text/plain": [
       "48607"
      ]
     },
     "execution_count": 11,
     "metadata": {},
     "output_type": "execute_result"
    }
   ],
   "source": [
    "merge_df.size"
   ]
  },
  {
   "cell_type": "code",
   "execution_count": 17,
   "id": "1e164a8c",
   "metadata": {},
   "outputs": [
    {
     "data": {
      "text/plain": [
       "682"
      ]
     },
     "execution_count": 17,
     "metadata": {},
     "output_type": "execute_result"
    }
   ],
   "source": [
    "len(range(1,merge_df['idx_entity'].nunique()+1))"
   ]
  },
  {
   "cell_type": "code",
   "execution_count": 19,
   "id": "17db659c",
   "metadata": {},
   "outputs": [
    {
     "name": "stdout",
     "output_type": "stream",
     "text": [
      "len(class_to_entity_idx) = 683\n",
      "len(entity_idx_to_class) = 682\n"
     ]
    }
   ],
   "source": [
    "class_to_entity_idx = {}\n",
    "entity_idx_to_class = {}\n",
    "\n",
    "for zipped in zip( \\\n",
    "            range(1,merge_df['idx_entity'].nunique()+1),\\\n",
    "            merge_df['idx_entity'].unique()):\n",
    "    class_to_entity_idx[zipped[0]] = zipped[1]\n",
    "    entity_idx_to_class[zipped[1]] = zipped[0]\n",
    "    \n",
    "# Class \"0\" means this is not an entity\n",
    "class_to_entity_idx[0]=-1\n",
    "print(f\"len(class_to_entity_idx) = {len(class_to_entity_idx)}\")\n",
    "print(f\"len(entity_idx_to_class) = {len(entity_idx_to_class)}\")"
   ]
  },
  {
   "cell_type": "code",
   "execution_count": null,
   "id": "e6d4232b",
   "metadata": {},
   "outputs": [],
   "source": []
  },
  {
   "cell_type": "code",
   "execution_count": null,
   "id": "491a3611",
   "metadata": {},
   "outputs": [],
   "source": []
  },
  {
   "cell_type": "code",
   "execution_count": null,
   "id": "50df7818",
   "metadata": {},
   "outputs": [],
   "source": []
  },
  {
   "cell_type": "code",
   "execution_count": 20,
   "id": "6876184f",
   "metadata": {},
   "outputs": [
    {
     "data": {
      "text/plain": [
       "683"
      ]
     },
     "execution_count": 20,
     "metadata": {},
     "output_type": "execute_result"
    }
   ],
   "source": [
    "num_classes = len(class_to_entity_idx)\n",
    "num_classes"
   ]
  },
  {
   "cell_type": "code",
   "execution_count": 80,
   "id": "2b5d4663",
   "metadata": {},
   "outputs": [],
   "source": [
    "class MentionEntityDataset(Dataset):\n",
    "    def __init__(self, hugface_mdl, merge_df):\n",
    "        self.mention_vecs = hugface_mdl.encode(pd.array( \\\n",
    "            merge_df['left_context'] +' ' +\\\n",
    "            merge_df['link_repr'] + ' ' + \\\n",
    "            merge_df['right_context']))\n",
    "\n",
    "        #self.neg_mining_vecs = hugface_mdl.encode(pd.array( \\\n",
    "        #   merge_df['left_context']))\n",
    "\n",
    "        self.idx_entity = merge_df['idx_entity'];\n",
    "        assert(len(self.mention_vecs) == len(self.idx_entity))\n",
    "\n",
    "    def __len__(self):\n",
    "        return len(self.mention_vecs)# + len(self.neg_mining_vecs)\n",
    "\n",
    "    def __getitem__(self, idx):\n",
    "        #if idx < len(self.mention_vecs): \n",
    "            return self.mention_vecs[idx].reshape(-1), \\\n",
    "                entity_idx_to_class[self.idx_entity[idx]]\n",
    "        #else:\n",
    "        #    return self.neg_mining_vecs[idx - len(self.mention_vecs)], 0"
   ]
  },
  {
   "cell_type": "code",
   "execution_count": 81,
   "id": "7d584595",
   "metadata": {},
   "outputs": [
    {
     "data": {
      "text/plain": [
       "3739"
      ]
     },
     "execution_count": 81,
     "metadata": {},
     "output_type": "execute_result"
    }
   ],
   "source": [
    "dataset = MentionEntityDataset(hugface_mdl, merge_df)\n",
    "len(dataset)"
   ]
  },
  {
   "cell_type": "code",
   "execution_count": 82,
   "id": "04fb6624",
   "metadata": {},
   "outputs": [],
   "source": [
    "class MentionToEntityNet(nn.Module):\n",
    "    def __init__(self, out_size, in_size=384, dropout=0.5):\n",
    "        super(MentionToEntityNet, self).__init__()\n",
    "        #self.flatten = nn.Flatten()\n",
    "        self.linear_relu_stack = nn.Sequential(\n",
    "            nn.Linear(in_size, 2000),\n",
    "            nn.ReLU(),\n",
    "            nn.Linear(2000, 1500),\n",
    "            nn.Dropout(dropout),\n",
    "            nn.ReLU(),\n",
    "            nn.Linear(1500, out_size),\n",
    "        )\n",
    "        self.linear_relu_stack.apply(self._init_weights)\n",
    "    def _init_weights(self, m):\n",
    "        if isinstance(m, nn.Linear):\n",
    "            torch.nn.init.xavier_uniform_(m.weight)\n",
    "            m.bias.data.fill_(0.01)\n",
    "            \n",
    "    def forward(self, x):\n",
    "        # Return logits, softmax is not necessary for LogisticRegression\n",
    "        # Softmax is only necessary for prediction time\n",
    "        logits = self.linear_relu_stack(x)\n",
    "        return logits\n"
   ]
  },
  {
   "cell_type": "code",
   "execution_count": 83,
   "id": "5afb14c1",
   "metadata": {},
   "outputs": [
    {
     "name": "stdout",
     "output_type": "stream",
     "text": [
      "MentionToEntityNet(\n",
      "  (linear_relu_stack): Sequential(\n",
      "    (0): Linear(in_features=384, out_features=2000, bias=True)\n",
      "    (1): ReLU()\n",
      "    (2): Linear(in_features=2000, out_features=1500, bias=True)\n",
      "    (3): Dropout(p=0.5, inplace=False)\n",
      "    (4): ReLU()\n",
      "    (5): Linear(in_features=1500, out_features=683, bias=True)\n",
      "  )\n",
      ")\n"
     ]
    }
   ],
   "source": [
    "model = MentionToEntityNet(out_size=num_classes)\n",
    "print(model)"
   ]
  },
  {
   "cell_type": "code",
   "execution_count": 84,
   "id": "a1bf7c76",
   "metadata": {},
   "outputs": [
    {
     "data": {
      "application/vnd.jupyter.widget-view+json": {
       "model_id": "d3fc1be5183742b69c3fd58365130bbe",
       "version_major": 2,
       "version_minor": 0
      },
      "text/plain": [
       "  0%|          | 0/60 [00:00<?, ?it/s]"
      ]
     },
     "metadata": {},
     "output_type": "display_data"
    },
    {
     "name": "stdout",
     "output_type": "stream",
     "text": [
      "Epoch: 0004 loss=3.410809827 \n",
      "Epoch: 0008 loss=1.627442758 \n",
      "Epoch: 0012 loss=0.863448453 \n",
      "Epoch: 0016 loss=0.524515625 \n",
      "Epoch: 0020 loss=0.358076280 \n",
      "Epoch: 0024 loss=0.277994741 \n",
      "Epoch: 0028 loss=0.192168367 \n",
      "Epoch: 0032 loss=0.157664373 \n",
      "Epoch: 0036 loss=0.148826657 \n",
      "Epoch: 0040 loss=0.113916043 \n",
      "Epoch: 0044 loss=0.095622795 \n",
      "Epoch: 0048 loss=0.100520751 \n",
      "Epoch: 0052 loss=0.080743559 \n",
      "Epoch: 0056 loss=0.067889355 \n",
      "Epoch: 0060 loss=0.080840983 \n",
      "Optimization Finished!\n"
     ]
    }
   ],
   "source": [
    "# Training cycle\n",
    "MAX_EPOCHS = 60\n",
    "BATCH_SIZE = 32\n",
    "DISPLAY_STEP = 4\n",
    "LEARNING_RATE = 0.001\n",
    "def train(model, dataset):\n",
    "    optimizer = torch.optim.Adam(model.parameters(), lr=LEARNING_RATE)\n",
    "    loss_fct = nn.CrossEntropyLoss()\n",
    "    #loss_fct = nn.CosineSimilarity(eps=1e-6)\n",
    "    model.train()\n",
    "    epoch_losses = []\n",
    "    for epoch in tqdm(range(1, MAX_EPOCHS+1)):\n",
    "        losses = []\n",
    "        dataloader = DataLoader(dataset, batch_size=BATCH_SIZE,\n",
    "                        shuffle=True, drop_last=False)\n",
    "        for x, y in dataloader:\n",
    "            optimizer.zero_grad()\n",
    "            predicted = model(x)\n",
    "            loss = loss_fct(predicted, y)\n",
    "            loss.backward()\n",
    "            optimizer.step()\n",
    "            loss_value = loss.item()\n",
    "            losses.append(loss_value)\n",
    "        \n",
    "        train_loss_value = np.mean(losses)\n",
    "        epoch_losses.append(train_loss_value)\n",
    "        # Display logs per each DISPLAY_STEP\n",
    "        if (epoch) % DISPLAY_STEP == 0:\n",
    "            print(\"Epoch: {:04d} loss={:.9f} \".format(epoch, train_loss_value))\n",
    "    return epoch_losses    \n",
    "    \n",
    "\n",
    "epoch_losses = train(model, dataset)\n",
    "print (\"Optimization Finished!\")"
   ]
  },
  {
   "cell_type": "code",
   "execution_count": 85,
   "id": "83210a80",
   "metadata": {},
   "outputs": [
    {
     "data": {
      "image/png": "[encoded data removed]",
      "text/plain": [
       "<Figure size 432x288 with 1 Axes>"
      ]
     },
     "metadata": {
      "needs_background": "light"
     },
     "output_type": "display_data"
    }
   ],
   "source": [
    "plt.plot(range(len(epoch_losses)), epoch_losses)\n",
    "plt.show()"
   ]
  },
  {
   "cell_type": "markdown",
   "id": "aacdf550",
   "metadata": {},
   "source": [
    "# Evaluation"
   ]
  },
  {
   "cell_type": "code",
   "execution_count": 86,
   "id": "66ac5ecc",
   "metadata": {},
   "outputs": [],
   "source": [
    "# https://bg.wikinews.org/wiki/%D0%A4%D0%B8%D0%BD%D0%B0%D0%BD%D1%81%D0%B8%D1%80%D0%B0%D0%BD%D0%B5%D1%82%D0%BE_%D0%BD%D0%B0_%D0%A2%D0%B5%D0%B2%D0%B0%D1%82%D1%80%D0%BE%D0%BD_%D1%89%D0%B5_%D0%B1%D1%8A%D0%B4%D0%B5_%D0%BF%D1%80%D0%B5%D1%83%D1%81%D1%82%D0%B0%D0%BD%D0%BE%D0%B2%D0%B5%D0%BD%D0%BE\n",
    "text = \"\"\"\n",
    "Дни, използвани от слънчевите календари.\n",
    "При слънчевите календари датата отговаря \n",
    "на слънчевия ден. Денят може да се състои \n",
    "от периода между изгрев и залез слънце, \n",
    "последван от нощта, или може да представлява \n",
    "времето между повтарящи се събития, например \n",
    "два залеза. Дължината може да се променя малко \n",
    "през годината или може да се използва среден \n",
    "слънчев ден. Други типове календари също могат \n",
    "да използват слънчевия ден.\n",
    "\n",
    "Юлиански и Григориански календар.\n",
    "Юлианският календар е въведен от римския диктатор \n",
    "Юлий Цезар през 46 г. пр.н.е. При него месеците са \n",
    "по-дълги от лунния цикъл и затова той не е удобен за \n",
    "следене на лунните фази, за сметка на това много точно \n",
    "показва сезоните. Обикновените години имат 365 дена, \n",
    "а всяка четвърта година е високосна, което означава, \n",
    "че има 366 дни. Така продължителността на средната \n",
    "година е 365,25 дни.\n",
    "\"\"\"\n",
    "\n",
    "stop_words = {\"и\",\"на\",\"в\", \".\", \"се\", \"да\", \\\n",
    "              \"от\", \"или\", \"през\", \"а\", \"може\",\\\n",
    "              \"например\", \"той\", \"не\", \"при\", \"е\",\\\n",
    "              \"за\", \"че\",\"има\", \"са\"}"
   ]
  },
  {
   "cell_type": "code",
   "execution_count": null,
   "id": "125e7611",
   "metadata": {},
   "outputs": [],
   "source": []
  },
  {
   "cell_type": "code",
   "execution_count": 87,
   "id": "5ad12a7b",
   "metadata": {
    "scrolled": false
   },
   "outputs": [
    {
     "data": {
      "text/plain": [
       "['Дни', 'използвани', 'от', 'слънчевите', 'календари', '.']"
      ]
     },
     "execution_count": 87,
     "metadata": {},
     "output_type": "execute_result"
    }
   ],
   "source": [
    "text = re.sub(r\"[,\\\"]\", r\"\", text.strip())\n",
    "text = re.sub(r\"\\.\", r\" . \", text.strip())\n",
    "tokens = text.split()\n",
    "tokens[0:6]"
   ]
  },
  {
   "cell_type": "code",
   "execution_count": 88,
   "id": "17c792f3",
   "metadata": {},
   "outputs": [
    {
     "name": "stdout",
     "output_type": "stream",
     "text": [
      "Дни==0.999186098575592=>Европа\n",
      "Дни използвани==0.9998431205749512=>Европа\n",
      "използвани==0.9998431205749512=>Европа\n",
      "слънчевите==0.9983568787574768=>Европа\n",
      "слънчевите календари==0.9634156227111816=>Европа\n",
      "календари==0.9634156227111816=>Европа\n",
      "слънчевите календари==0.9982030391693115=>България\n",
      "календари==0.9982030391693115=>България\n",
      "календари датата==0.9999433755874634=>България\n",
      "датата==0.9999433755874634=>България\n",
      "датата отговаря==0.9992617964744568=>България\n",
      "отговаря==0.9992617964744568=>България\n",
      "слънчевия==0.9958718419075012=>България\n",
      "залез==0.9956173896789551=>Варна\n",
      "залез слънце==0.9972787499427795=>Варна\n",
      "слънце==0.9972787499427795=>Варна\n",
      "слънце последван==0.9942071437835693=>Варна\n",
      "последван==0.9942071437835693=>Варна\n",
      "събития==0.9684929847717285=>София\n",
      "два залеза==0.9797189235687256=>София\n",
      "залеза==0.9797189235687256=>София\n",
      "използва==0.9788632988929749=>Европа\n",
      "римския диктатор==0.9706332087516785=>България\n",
      "диктатор==0.9706332087516785=>България\n",
      "него==0.9741998314857483=>Рим\n",
      "много точно==0.9729612469673157=>София\n",
      "точно==0.9729612469673157=>София\n",
      "всяка==0.997867226600647=>Григориански календар\n",
      "което означава==0.9963375329971313=>Григориански календар\n",
      "означава==0.9963375329971313=>Григориански календар\n"
     ]
    }
   ],
   "source": [
    "model.eval()\n",
    "\n",
    "MAX_SPAN_MENTION = 2\n",
    "with torch.no_grad():\n",
    "    for i in range(len(tokens)):\n",
    "        if tokens[i].lower() in stop_words :\n",
    "            continue;\n",
    "        for span in range(MAX_SPAN_MENTION): \n",
    "            left_tok_start = max(i+span-5,0)\n",
    "            right_tok_end = min(i+span+5,len(tokens))\n",
    "            # On stop word continue\n",
    "            if tokens[min(i+span,len(tokens)-1)].lower() in stop_words:\n",
    "                continue;\n",
    "            #print(\" \".join(tokens[left_tok_start: right_tok_end]))\n",
    "            vec = hugface_mdl.encode(\" \".join(tokens[left_tok_start: right_tok_end]))\n",
    "            predicted = model(torch.from_numpy(vec).reshape(-1))\n",
    "            probabilities = F.softmax(predicted.view(-1),dim=0)\n",
    "            max_prob = torch.max(probabilities)\n",
    "            argmax_prob = torch.argmax(probabilities)\n",
    "            entity_idx = class_to_entity_idx[argmax_prob.item()]\n",
    "            tokens_joined = ' '.join(tokens[i:i+span+1])\n",
    "            if entity_idx != -1 and max_prob > 0.95:\n",
    "                print(f\"{tokens_joined}=={max_prob}=>{entities_df.iloc[entity_idx]['title']}\")\n",
    "                #break\n",
    "        \n",
    "    "
   ]
  },
  {
   "cell_type": "code",
   "execution_count": null,
   "id": "ed914997",
   "metadata": {},
   "outputs": [],
   "source": [
    "\n"
   ]
  },
  {
   "cell_type": "code",
   "execution_count": null,
   "id": "0cdb4277",
   "metadata": {},
   "outputs": [],
   "source": []
  },
  {
   "cell_type": "code",
   "execution_count": null,
   "id": "85cc14ad",
   "metadata": {},
   "outputs": [],
   "source": []
  },
  {
   "cell_type": "code",
   "execution_count": null,
   "id": "27ba977b",
   "metadata": {},
   "outputs": [],
   "source": []
  }
 ],
 "metadata": {
  "kernelspec": {
   "display_name": "Python 3 (ipykernel)",
   "language": "python",
   "name": "python3"
  },
  "language_info": {
   "codemirror_mode": {
    "name": "ipython",
    "version": 3
   },
   "file_extension": ".py",
   "mimetype": "text/x-python",
   "name": "python",
   "nbconvert_exporter": "python",
   "pygments_lexer": "ipython3",
   "version": "3.9.7"
  }
 },
 "nbformat": 4,
 "nbformat_minor": 5
}
